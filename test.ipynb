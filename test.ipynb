{
 "cells": [
  {
   "cell_type": "code",
   "execution_count": 3,
   "metadata": {},
   "outputs": [
    {
     "data": {
      "text/plain": [
       "True"
      ]
     },
     "execution_count": 3,
     "metadata": {},
     "output_type": "execute_result"
    }
   ],
   "source": [
    "from dotenv import load_dotenv\n",
    "load_dotenv(dotenv_path=\".env\", override=True)"
   ]
  },
  {
   "cell_type": "code",
   "execution_count": 4,
   "metadata": {},
   "outputs": [],
   "source": [
    "from langchain_openai import ChatOpenAI\n",
    "\n",
    "llm = ChatOpenAI(temperature=0.0, model=\"gpt-4o\")"
   ]
  },
  {
   "cell_type": "code",
   "execution_count": 10,
   "metadata": {},
   "outputs": [
    {
     "name": "stdout",
     "output_type": "stream",
     "text": [
      "\n",
      "Here's what the prompt looks like:\n",
      "input_variables=['messages'] input_types={} partial_variables={} metadata={'lc_hub_owner': '-', 'lc_hub_repo': 'music-store-agent-prompt', 'lc_hub_commit_hash': '29b79fb8af184d8c7543b90d34dbf9602d839541751d031a0bd9861a63298040'} messages=[SystemMessagePromptTemplate(prompt=PromptTemplate(input_variables=[], input_types={}, partial_variables={}, template='You are a helpful music store assistant for an online digital music store. You help customers discover, \\npurchase, and manage their music collection.\\n\\n1. Music Discovery and Recommendations:\\n   - Search for music based on genres, moods, styles, or similarity to other songs using the get_recommendations tool\\n   - Show detailed track information including artists, albums, and prices\\n   - Customers DO NOT have logged preferences so if you need clarification on what they want, ask them to specify their preferences\\n\\n2. Purchase Management:\\n   - Parse track selections from recommendations (by track numbers or names) using the parse_track_selection tool\\n   - Preview purchase details before confirmation using the process_purchase tool\\n   - Process music track purchases after user confirmation\\n   - Show complete purchase history with the query_invoice_history tool \\n   - Handle refund requests for previous purchases using the request_refund tool\\n\\n3. Profile Management:\\n    - Get customer information using the fetch_customer_info tool.\\n   - Update customer contact information using the update_profile tool\\n   - Modify billing/shipping addresses using the update_profile tool\\n   - Update customer details using the update_profile tool\\n\\nWhen assisting customers:\\n- Only process requests from the customer who is currently logged in\\n- For purchases, always show a preview first before completing the transaction\\n- When recommending music, be creative and consider various aspects (genre, mood, style) depending on the query.\\n- If a search returns no results, try broadening the search criteria\\n- Provide clear explanations for any errors or issues\\n- For purchases from recommendations, help users select tracks by number (e.g., \"tracks 1, 3, and 5\") or by name\\n\\nRemember to be conversational and helpful while ensuring secure and accurate transactions.'), additional_kwargs={}), HumanMessagePromptTemplate(prompt=PromptTemplate(input_variables=['messages'], input_types={}, partial_variables={}, template='{messages}'), additional_kwargs={})]\n",
      "\n",
      "Here's the result from using the prompt directly:\n",
      "As a virtual assistant, I don't have personal preferences or favorites, but I'm here to help you with anything related to music! Whether you're looking for recommendations, need help with a purchase, or want to manage your profile, just let me know how I can assist you today.\n"
     ]
    }
   ],
   "source": [
    "from langchain import hub \n",
    "from langchain_core.prompts import ChatPromptTemplate\n",
    "\n",
    "# Load prompt from langchain hub\n",
    "prompt = hub.pull(\"music-store-agent-prompt\")\n",
    "\n",
    "# You don't need to convert it again, prompt is already a ChatPromptTemplate object\n",
    "# Just use it directly\n",
    "messages = [\n",
    "    {\"role\": \"human\", \"content\": \"Hi!\"},\n",
    "    {\"role\": \"ai\", \"content\": \"How can I assist you today?\"},\n",
    "    {\"role\": \"human\", \"content\": \"What is your favorite color?\"},\n",
    "]\n",
    "                      \n",
    "# Or we can use the prompt directly with the LLM\n",
    "# The prompt from hub already has a messages variable that needs to be passed\n",
    "result = llm.invoke(prompt.format(messages=messages))\n",
    "\n",
    "print(\"\\nHere's what the prompt looks like:\")\n",
    "print(prompt)\n",
    "\n",
    "print(\"\\nHere's the result from using the prompt directly:\")\n",
    "print(result.content)\n",
    "# ... existing code ..."
   ]
  }
 ],
 "metadata": {
  "kernelspec": {
   "display_name": "venv",
   "language": "python",
   "name": "python3"
  },
  "language_info": {
   "codemirror_mode": {
    "name": "ipython",
    "version": 3
   },
   "file_extension": ".py",
   "mimetype": "text/x-python",
   "name": "python",
   "nbconvert_exporter": "python",
   "pygments_lexer": "ipython3",
   "version": "3.13.2"
  }
 },
 "nbformat": 4,
 "nbformat_minor": 2
}
