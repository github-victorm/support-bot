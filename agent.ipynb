{
 "cells": [
  {
   "cell_type": "markdown",
   "id": "d9d1a28b-c2a1-4246-b1c2-c58d6938f798",
   "metadata": {},
   "source": [
    "# Customer Support\n",
    "\n",
    "Here, we show an example of building a customer support chatbot.\n",
    "\n",
    "This customer support chatbot interacts with SQL database to answer questions.\n",
    "We will use a mock SQL database to get started: the [Chinook](https://www.sqlitetutorial.net/sqlite-sample-database/) database.\n",
    "This database is about sales from a music store: what songs and album exists, customer orders, things like that.\n",
    "\n",
    "This chatbot has two different states: \n",
    "1. Music: the user can inquire about different songs and albums present in the store\n",
    "2. Account: the user can ask questions about their account\n",
    "\n",
    "Under the hood, this is handled by two separate agents. \n",
    "Each has a specific prompt and tools related to their objective. \n",
    "There is also a generic agent who is responsible for routing between these two agents as needed."
   ]
  },
  {
   "cell_type": "code",
   "execution_count": 1,
   "id": "35abc013-2613-4a49-a806-939dcf13ccf3",
   "metadata": {
    "scrolled": true
   },
   "outputs": [
    {
     "name": "stdout",
     "output_type": "stream",
     "text": [
      "Requirement already satisfied: langgraph in /Library/Frameworks/Python.framework/Versions/3.13/lib/python3.13/site-packages (0.2.61)\n",
      "Requirement already satisfied: langchain-openai in /Library/Frameworks/Python.framework/Versions/3.13/lib/python3.13/site-packages (0.2.14)\n",
      "Requirement already satisfied: langchain-community in /Library/Frameworks/Python.framework/Versions/3.13/lib/python3.13/site-packages (0.3.14)\n",
      "Requirement already satisfied: scikit-learn in /Library/Frameworks/Python.framework/Versions/3.13/lib/python3.13/site-packages (1.6.0)\n",
      "Requirement already satisfied: langgraph-checkpoint-sqlite in /Library/Frameworks/Python.framework/Versions/3.13/lib/python3.13/site-packages (2.0.1)\n",
      "Requirement already satisfied: python-dotenv in /Library/Frameworks/Python.framework/Versions/3.13/lib/python3.13/site-packages (1.0.1)\n",
      "Requirement already satisfied: langchain-core!=0.3.0,!=0.3.1,!=0.3.10,!=0.3.11,!=0.3.12,!=0.3.13,!=0.3.14,!=0.3.15,!=0.3.16,!=0.3.17,!=0.3.18,!=0.3.19,!=0.3.2,!=0.3.20,!=0.3.21,!=0.3.22,!=0.3.3,!=0.3.4,!=0.3.5,!=0.3.6,!=0.3.7,!=0.3.8,!=0.3.9,<0.4.0,>=0.2.43 in /Library/Frameworks/Python.framework/Versions/3.13/lib/python3.13/site-packages (from langgraph) (0.3.29)\n",
      "Requirement already satisfied: langgraph-checkpoint<3.0.0,>=2.0.4 in /Library/Frameworks/Python.framework/Versions/3.13/lib/python3.13/site-packages (from langgraph) (2.0.5)\n",
      "Requirement already satisfied: langgraph-sdk<0.2.0,>=0.1.42 in /Library/Frameworks/Python.framework/Versions/3.13/lib/python3.13/site-packages (from langgraph) (0.1.44)\n",
      "Requirement already satisfied: openai<2.0.0,>=1.58.1 in /Library/Frameworks/Python.framework/Versions/3.13/lib/python3.13/site-packages (from langchain-openai) (1.59.3)\n",
      "Requirement already satisfied: tiktoken<1,>=0.7 in /Library/Frameworks/Python.framework/Versions/3.13/lib/python3.13/site-packages (from langchain-openai) (0.8.0)\n",
      "Requirement already satisfied: PyYAML>=5.3 in /Library/Frameworks/Python.framework/Versions/3.13/lib/python3.13/site-packages (from langchain-community) (6.0.2)\n",
      "Requirement already satisfied: SQLAlchemy<3,>=1.4 in /Library/Frameworks/Python.framework/Versions/3.13/lib/python3.13/site-packages (from langchain-community) (2.0.36)\n",
      "Requirement already satisfied: aiohttp<4.0.0,>=3.8.3 in /Library/Frameworks/Python.framework/Versions/3.13/lib/python3.13/site-packages (from langchain-community) (3.10.9)\n",
      "Requirement already satisfied: dataclasses-json<0.7,>=0.5.7 in /Library/Frameworks/Python.framework/Versions/3.13/lib/python3.13/site-packages (from langchain-community) (0.6.7)\n",
      "Requirement already satisfied: httpx-sse<0.5.0,>=0.4.0 in /Library/Frameworks/Python.framework/Versions/3.13/lib/python3.13/site-packages (from langchain-community) (0.4.0)\n",
      "Requirement already satisfied: langchain<0.4.0,>=0.3.14 in /Library/Frameworks/Python.framework/Versions/3.13/lib/python3.13/site-packages (from langchain-community) (0.3.14)\n",
      "Requirement already satisfied: langsmith<0.3,>=0.1.125 in /Library/Frameworks/Python.framework/Versions/3.13/lib/python3.13/site-packages (from langchain-community) (0.2.10)\n",
      "Requirement already satisfied: numpy<3,>=1.26.2 in /Library/Frameworks/Python.framework/Versions/3.13/lib/python3.13/site-packages (from langchain-community) (1.26.4)\n",
      "Requirement already satisfied: pydantic-settings<3.0.0,>=2.4.0 in /Library/Frameworks/Python.framework/Versions/3.13/lib/python3.13/site-packages (from langchain-community) (2.5.2)\n",
      "Requirement already satisfied: requests<3,>=2 in /Library/Frameworks/Python.framework/Versions/3.13/lib/python3.13/site-packages (from langchain-community) (2.32.3)\n",
      "Requirement already satisfied: tenacity!=8.4.0,<10,>=8.1.0 in /Library/Frameworks/Python.framework/Versions/3.13/lib/python3.13/site-packages (from langchain-community) (8.5.0)\n",
      "Requirement already satisfied: scipy>=1.6.0 in /Library/Frameworks/Python.framework/Versions/3.13/lib/python3.13/site-packages (from scikit-learn) (1.14.1)\n",
      "Requirement already satisfied: joblib>=1.2.0 in /Library/Frameworks/Python.framework/Versions/3.13/lib/python3.13/site-packages (from scikit-learn) (1.4.2)\n",
      "Requirement already satisfied: threadpoolctl>=3.1.0 in /Library/Frameworks/Python.framework/Versions/3.13/lib/python3.13/site-packages (from scikit-learn) (3.5.0)\n",
      "Requirement already satisfied: aiosqlite<0.21.0,>=0.20.0 in /Library/Frameworks/Python.framework/Versions/3.13/lib/python3.13/site-packages (from langgraph-checkpoint-sqlite) (0.20.0)\n",
      "Requirement already satisfied: aiohappyeyeballs>=2.3.0 in /Library/Frameworks/Python.framework/Versions/3.13/lib/python3.13/site-packages (from aiohttp<4.0.0,>=3.8.3->langchain-community) (2.4.3)\n",
      "Requirement already satisfied: aiosignal>=1.1.2 in /Library/Frameworks/Python.framework/Versions/3.13/lib/python3.13/site-packages (from aiohttp<4.0.0,>=3.8.3->langchain-community) (1.3.1)\n",
      "Requirement already satisfied: attrs>=17.3.0 in /Library/Frameworks/Python.framework/Versions/3.13/lib/python3.13/site-packages (from aiohttp<4.0.0,>=3.8.3->langchain-community) (24.2.0)\n",
      "Requirement already satisfied: frozenlist>=1.1.1 in /Library/Frameworks/Python.framework/Versions/3.13/lib/python3.13/site-packages (from aiohttp<4.0.0,>=3.8.3->langchain-community) (1.4.1)\n",
      "Requirement already satisfied: multidict<7.0,>=4.5 in /Library/Frameworks/Python.framework/Versions/3.13/lib/python3.13/site-packages (from aiohttp<4.0.0,>=3.8.3->langchain-community) (6.1.0)\n",
      "Requirement already satisfied: yarl<2.0,>=1.12.0 in /Library/Frameworks/Python.framework/Versions/3.13/lib/python3.13/site-packages (from aiohttp<4.0.0,>=3.8.3->langchain-community) (1.14.0)\n",
      "Requirement already satisfied: typing_extensions>=4.0 in /Library/Frameworks/Python.framework/Versions/3.13/lib/python3.13/site-packages (from aiosqlite<0.21.0,>=0.20.0->langgraph-checkpoint-sqlite) (4.12.2)\n",
      "Requirement already satisfied: marshmallow<4.0.0,>=3.18.0 in /Library/Frameworks/Python.framework/Versions/3.13/lib/python3.13/site-packages (from dataclasses-json<0.7,>=0.5.7->langchain-community) (3.22.0)\n",
      "Requirement already satisfied: typing-inspect<1,>=0.4.0 in /Library/Frameworks/Python.framework/Versions/3.13/lib/python3.13/site-packages (from dataclasses-json<0.7,>=0.5.7->langchain-community) (0.9.0)\n",
      "Requirement already satisfied: langchain-text-splitters<0.4.0,>=0.3.3 in /Library/Frameworks/Python.framework/Versions/3.13/lib/python3.13/site-packages (from langchain<0.4.0,>=0.3.14->langchain-community) (0.3.3)\n",
      "Requirement already satisfied: pydantic<3.0.0,>=2.7.4 in /Library/Frameworks/Python.framework/Versions/3.13/lib/python3.13/site-packages (from langchain<0.4.0,>=0.3.14->langchain-community) (2.10.4)\n",
      "Requirement already satisfied: jsonpatch<2.0,>=1.33 in /Library/Frameworks/Python.framework/Versions/3.13/lib/python3.13/site-packages (from langchain-core!=0.3.0,!=0.3.1,!=0.3.10,!=0.3.11,!=0.3.12,!=0.3.13,!=0.3.14,!=0.3.15,!=0.3.16,!=0.3.17,!=0.3.18,!=0.3.19,!=0.3.2,!=0.3.20,!=0.3.21,!=0.3.22,!=0.3.3,!=0.3.4,!=0.3.5,!=0.3.6,!=0.3.7,!=0.3.8,!=0.3.9,<0.4.0,>=0.2.43->langgraph) (1.33)\n",
      "Requirement already satisfied: packaging<25,>=23.2 in /Library/Frameworks/Python.framework/Versions/3.13/lib/python3.13/site-packages (from langchain-core!=0.3.0,!=0.3.1,!=0.3.10,!=0.3.11,!=0.3.12,!=0.3.13,!=0.3.14,!=0.3.15,!=0.3.16,!=0.3.17,!=0.3.18,!=0.3.19,!=0.3.2,!=0.3.20,!=0.3.21,!=0.3.22,!=0.3.3,!=0.3.4,!=0.3.5,!=0.3.6,!=0.3.7,!=0.3.8,!=0.3.9,<0.4.0,>=0.2.43->langgraph) (24.1)\n",
      "Requirement already satisfied: msgpack<2.0.0,>=1.1.0 in /Library/Frameworks/Python.framework/Versions/3.13/lib/python3.13/site-packages (from langgraph-checkpoint<3.0.0,>=2.0.4->langgraph) (1.1.0)\n",
      "Requirement already satisfied: httpx>=0.25.2 in /Library/Frameworks/Python.framework/Versions/3.13/lib/python3.13/site-packages (from langgraph-sdk<0.2.0,>=0.1.42->langgraph) (0.27.2)\n",
      "Requirement already satisfied: orjson>=3.10.1 in /Library/Frameworks/Python.framework/Versions/3.13/lib/python3.13/site-packages (from langgraph-sdk<0.2.0,>=0.1.42->langgraph) (3.10.7)\n",
      "Requirement already satisfied: requests-toolbelt<2.0.0,>=1.0.0 in /Library/Frameworks/Python.framework/Versions/3.13/lib/python3.13/site-packages (from langsmith<0.3,>=0.1.125->langchain-community) (1.0.0)\n",
      "Requirement already satisfied: anyio<5,>=3.5.0 in /Library/Frameworks/Python.framework/Versions/3.13/lib/python3.13/site-packages (from openai<2.0.0,>=1.58.1->langchain-openai) (4.6.0)\n",
      "Requirement already satisfied: distro<2,>=1.7.0 in /Library/Frameworks/Python.framework/Versions/3.13/lib/python3.13/site-packages (from openai<2.0.0,>=1.58.1->langchain-openai) (1.9.0)\n",
      "Requirement already satisfied: jiter<1,>=0.4.0 in /Library/Frameworks/Python.framework/Versions/3.13/lib/python3.13/site-packages (from openai<2.0.0,>=1.58.1->langchain-openai) (0.6.1)\n",
      "Requirement already satisfied: sniffio in /Library/Frameworks/Python.framework/Versions/3.13/lib/python3.13/site-packages (from openai<2.0.0,>=1.58.1->langchain-openai) (1.3.1)\n",
      "Requirement already satisfied: tqdm>4 in /Library/Frameworks/Python.framework/Versions/3.13/lib/python3.13/site-packages (from openai<2.0.0,>=1.58.1->langchain-openai) (4.66.5)\n",
      "Requirement already satisfied: charset-normalizer<4,>=2 in /Library/Frameworks/Python.framework/Versions/3.13/lib/python3.13/site-packages (from requests<3,>=2->langchain-community) (3.3.2)\n",
      "Requirement already satisfied: idna<4,>=2.5 in /Library/Frameworks/Python.framework/Versions/3.13/lib/python3.13/site-packages (from requests<3,>=2->langchain-community) (3.10)\n",
      "Requirement already satisfied: urllib3<3,>=1.21.1 in /Library/Frameworks/Python.framework/Versions/3.13/lib/python3.13/site-packages (from requests<3,>=2->langchain-community) (2.2.3)\n",
      "Requirement already satisfied: certifi>=2017.4.17 in /Library/Frameworks/Python.framework/Versions/3.13/lib/python3.13/site-packages (from requests<3,>=2->langchain-community) (2024.8.30)\n",
      "Requirement already satisfied: regex>=2022.1.18 in /Library/Frameworks/Python.framework/Versions/3.13/lib/python3.13/site-packages (from tiktoken<1,>=0.7->langchain-openai) (2024.9.11)\n",
      "Requirement already satisfied: httpcore==1.* in /Library/Frameworks/Python.framework/Versions/3.13/lib/python3.13/site-packages (from httpx>=0.25.2->langgraph-sdk<0.2.0,>=0.1.42->langgraph) (1.0.6)\n",
      "Requirement already satisfied: h11<0.15,>=0.13 in /Library/Frameworks/Python.framework/Versions/3.13/lib/python3.13/site-packages (from httpcore==1.*->httpx>=0.25.2->langgraph-sdk<0.2.0,>=0.1.42->langgraph) (0.14.0)\n",
      "Requirement already satisfied: jsonpointer>=1.9 in /Library/Frameworks/Python.framework/Versions/3.13/lib/python3.13/site-packages (from jsonpatch<2.0,>=1.33->langchain-core!=0.3.0,!=0.3.1,!=0.3.10,!=0.3.11,!=0.3.12,!=0.3.13,!=0.3.14,!=0.3.15,!=0.3.16,!=0.3.17,!=0.3.18,!=0.3.19,!=0.3.2,!=0.3.20,!=0.3.21,!=0.3.22,!=0.3.3,!=0.3.4,!=0.3.5,!=0.3.6,!=0.3.7,!=0.3.8,!=0.3.9,<0.4.0,>=0.2.43->langgraph) (3.0.0)\n",
      "Requirement already satisfied: annotated-types>=0.6.0 in /Library/Frameworks/Python.framework/Versions/3.13/lib/python3.13/site-packages (from pydantic<3.0.0,>=2.7.4->langchain<0.4.0,>=0.3.14->langchain-community) (0.7.0)\n",
      "Requirement already satisfied: pydantic-core==2.27.2 in /Library/Frameworks/Python.framework/Versions/3.13/lib/python3.13/site-packages (from pydantic<3.0.0,>=2.7.4->langchain<0.4.0,>=0.3.14->langchain-community) (2.27.2)\n",
      "Requirement already satisfied: mypy-extensions>=0.3.0 in /Library/Frameworks/Python.framework/Versions/3.13/lib/python3.13/site-packages (from typing-inspect<1,>=0.4.0->dataclasses-json<0.7,>=0.5.7->langchain-community) (1.0.0)\n",
      "Requirement already satisfied: propcache>=0.2.0 in /Library/Frameworks/Python.framework/Versions/3.13/lib/python3.13/site-packages (from yarl<2.0,>=1.12.0->aiohttp<4.0.0,>=3.8.3->langchain-community) (0.2.0)\n",
      "\n",
      "\u001b[1m[\u001b[0m\u001b[34;49mnotice\u001b[0m\u001b[1;39;49m]\u001b[0m\u001b[39;49m A new release of pip is available: \u001b[0m\u001b[31;49m24.2\u001b[0m\u001b[39;49m -> \u001b[0m\u001b[32;49m24.3.1\u001b[0m\n",
      "\u001b[1m[\u001b[0m\u001b[34;49mnotice\u001b[0m\u001b[1;39;49m]\u001b[0m\u001b[39;49m To update, run: \u001b[0m\u001b[32;49mpip3 install --upgrade pip\u001b[0m\n",
      "Note: you may need to restart the kernel to use updated packages.\n"
     ]
    }
   ],
   "source": [
    "%pip install -U langgraph langchain-openai langchain-community scikit-learn langgraph-checkpoint-sqlite python-dotenv"
   ]
  },
  {
   "cell_type": "code",
   "execution_count": 1,
   "id": "58c8fd46-843c-4bd6-a5f7-2a50676d1b53",
   "metadata": {},
   "outputs": [
    {
     "data": {
      "text/plain": [
       "True"
      ]
     },
     "execution_count": 1,
     "metadata": {},
     "output_type": "execute_result"
    }
   ],
   "source": [
    "from dotenv import load_dotenv\n",
    "\n",
    "load_dotenv()"
   ]
  },
  {
   "cell_type": "markdown",
   "id": "9431e7f1-07fa-49d9-ac45-29613703dcc1",
   "metadata": {},
   "source": [
    "## Load the data"
   ]
  },
  {
   "cell_type": "code",
   "execution_count": 3,
   "id": "61f7ef9c",
   "metadata": {},
   "outputs": [
    {
     "name": "stdout",
     "output_type": "stream",
     "text": [
      "['albums', 'artists', 'customers', 'employees', 'genres', 'invoice_items', 'invoices', 'media_types', 'playlist_track', 'playlists', 'tracks']\n"
     ]
    }
   ],
   "source": [
    "from langchain_community.utilities.sql_database import SQLDatabase\n",
    "\n",
    "db = SQLDatabase.from_uri(\"sqlite:///chinook.db\")\n",
    "print(db.get_usable_table_names())"
   ]
  },
  {
   "cell_type": "markdown",
   "id": "1cf668e4-8cb4-4de1-bc5e-c90284bf74bc",
   "metadata": {},
   "source": [
    "## Load an LLM\n",
    "\n",
    "We will load a language model to use.\n",
    "For this demo we will use OpenAI."
   ]
  },
  {
   "cell_type": "code",
   "execution_count": 4,
   "id": "d9ea4e80-30e6-4d46-b480-35f0be2fb055",
   "metadata": {},
   "outputs": [],
   "source": [
    "from langchain_openai import ChatOpenAI\n",
    "\n",
    "# We will set streaming=True so that we can stream tokens\n",
    "# See the streaming section for more information on this.\n",
    "model = ChatOpenAI(temperature=0, streaming=True, model=\"gpt-4-turbo-preview\")"
   ]
  },
  {
   "cell_type": "markdown",
   "id": "73907422-7e05-431e-b06d-256c9ec1f6f6",
   "metadata": {},
   "source": [
    "## Load Other Modules\n",
    "\n",
    "Load other modules we will use.\n",
    "\n",
    "All of the tools our agents will use will be custom tools. As such, we will use the `@tool` decorator to create custom tools.\n",
    "\n",
    "We will pass in messages to the agent, so we load `HumanMessage` and `SystemMessage`"
   ]
  },
  {
   "cell_type": "code",
   "execution_count": 5,
   "id": "ea958e9f-ab1f-49b5-bd85-16332055297c",
   "metadata": {},
   "outputs": [],
   "source": [
    "from langchain_core.tools import tool\n",
    "from langchain_core.messages import HumanMessage, SystemMessage"
   ]
  },
  {
   "cell_type": "markdown",
   "id": "35271d4d-2a1c-41be-9359-a3a7c3fed3d9",
   "metadata": {},
   "source": [
    "## Define the Customer Agent\n",
    "\n",
    "This agent is responsible for looking up customer information.\n",
    "It will have a specific prompt as well a specific tool to look up information about that customer (after asking for their user id)."
   ]
  },
  {
   "cell_type": "code",
   "execution_count": 6,
   "id": "975b039a",
   "metadata": {},
   "outputs": [],
   "source": [
    "# This tool is given to the agent to look up information about a customer\n",
    "@tool\n",
    "def get_customer_info(customer_id: int):\n",
    "    \"\"\"Look up customer info given their ID. ALWAYS make sure you have the customer ID before invoking this.\"\"\"\n",
    "    return db.run(f\"SELECT * FROM customers WHERE CustomerID = {customer_id};\")"
   ]
  },
  {
   "cell_type": "code",
   "execution_count": 7,
   "id": "1d5fa446",
   "metadata": {},
   "outputs": [],
   "source": [
    "customer_prompt = \"\"\"Your job is to help a user update their profile.\n",
    "\n",
    "You only have certain tools you can use. These tools require specific input. If you don't know the required input, then ask the user for it.\n",
    "\n",
    "If you are unable to help the user, you can \"\"\"\n",
    "\n",
    "def get_customer_messages(messages):\n",
    "    return [SystemMessage(content=customer_prompt)] + messages\n",
    "\n",
    "customer_chain = get_customer_messages | model.bind_tools([get_customer_info])"
   ]
  },
  {
   "cell_type": "markdown",
   "id": "904a9485-3857-458e-8b9d-33bc33842bc9",
   "metadata": {},
   "source": [
    "## Define the Music Agent\n",
    "\n",
    "This agent is responsible for figuring out information about music. To do that, we will create a prompt and various tools for looking up information about music\n",
    "\n",
    "First, we will create indexes for looking up artists and track names.\n",
    "This will allow us to look up artists and tracks without having to spell their names exactly right."
   ]
  },
  {
   "cell_type": "code",
   "execution_count": 8,
   "id": "a8604a3b-b484-4b2b-a914-4236cb98c524",
   "metadata": {},
   "outputs": [],
   "source": [
    "from langchain_community.vectorstores import SKLearnVectorStore\n",
    "from langchain_openai import OpenAIEmbeddings\n",
    "\n",
    "artists = db._execute(\"select * from artists\")\n",
    "songs = db._execute(\"select * from tracks\")\n",
    "artist_retriever = SKLearnVectorStore.from_texts(\n",
    "    [a['Name'] for a in artists],\n",
    "    OpenAIEmbeddings(), \n",
    "    metadatas=artists\n",
    ").as_retriever()\n",
    "song_retriever = SKLearnVectorStore.from_texts(\n",
    "    [a['Name'] for a in songs],\n",
    "    OpenAIEmbeddings(), \n",
    "    metadatas=songs\n",
    ").as_retriever()"
   ]
  },
  {
   "cell_type": "markdown",
   "id": "ac7eb264-c572-4925-ad55-a1d52a18b1c0",
   "metadata": {},
   "source": [
    "First, let's create a tool for getting albums by artist."
   ]
  },
  {
   "cell_type": "code",
   "execution_count": 9,
   "id": "0a2a2b74",
   "metadata": {},
   "outputs": [],
   "source": [
    "@tool\n",
    "def get_albums_by_artist(artist):\n",
    "    \"\"\"Get albums by an artist (or similar artists).\"\"\"\n",
    "    docs = artist_retriever.get_relevant_documents(artist)\n",
    "    artist_ids = \", \".join([str(d.metadata['ArtistId']) for d in docs])\n",
    "    return db.run(f\"SELECT Title, Name FROM albums LEFT JOIN artists ON albums.ArtistId = artists.ArtistId WHERE albums.ArtistId in ({artist_ids});\", include_columns=True)"
   ]
  },
  {
   "cell_type": "markdown",
   "id": "45e85066-f2fc-490e-992d-cd66c9cd6486",
   "metadata": {},
   "source": [
    "Next, lets create a tool for getting tracks by an artist"
   ]
  },
  {
   "cell_type": "code",
   "execution_count": 10,
   "id": "da533f50",
   "metadata": {},
   "outputs": [],
   "source": [
    "@tool\n",
    "def get_tracks_by_artist(artist):\n",
    "    \"\"\"Get songs by an artist (or similar artists).\"\"\"\n",
    "    docs = artist_retriever.get_relevant_documents(artist)\n",
    "    artist_ids = \", \".join([str(d.metadata['ArtistId']) for d in docs])\n",
    "    return db.run(f\"SELECT tracks.Name as SongName, artists.Name as ArtistName FROM albums LEFT JOIN artists ON albums.ArtistId = artists.ArtistId LEFT JOIN tracks ON tracks.AlbumId = albums.AlbumId WHERE albums.ArtistId in ({artist_ids});\", include_columns=True)"
   ]
  },
  {
   "cell_type": "markdown",
   "id": "bb0e50ab-b059-427c-924b-f8072d8db23c",
   "metadata": {},
   "source": [
    "Finally, let's create a tool for looking up songs by their name."
   ]
  },
  {
   "cell_type": "code",
   "execution_count": 11,
   "id": "b3c07010",
   "metadata": {},
   "outputs": [],
   "source": [
    "@tool\n",
    "def check_for_songs(song_title):\n",
    "    \"\"\"Check if a song exists by its name.\"\"\"\n",
    "    return song_retriever.get_relevant_documents(song_title)"
   ]
  },
  {
   "cell_type": "markdown",
   "id": "88388ff8-38b5-4e4e-a24d-de8c3670bd2b",
   "metadata": {},
   "source": [
    "Create the chain to call the relevant tools"
   ]
  },
  {
   "cell_type": "code",
   "execution_count": 12,
   "id": "72a14d5c",
   "metadata": {},
   "outputs": [],
   "source": [
    "song_system_message = \"\"\"Your job is to help a customer find any songs they are looking for. \n",
    "\n",
    "You only have certain tools you can use. If a customer asks you to look something up that you don't know how, politely tell them what you can help with.\n",
    "\n",
    "When looking up artists and songs, sometimes the artist/song will not be found. In that case, the tools will return information \\\n",
    "on simliar songs and artists. This is intentional, it is not the tool messing up.\"\"\"\n",
    "def get_song_messages(messages):\n",
    "    return [SystemMessage(content=song_system_message)] + messages\n",
    "\n",
    "song_recc_chain = get_song_messages | model.bind_tools([get_albums_by_artist, get_tracks_by_artist, check_for_songs])"
   ]
  },
  {
   "cell_type": "code",
   "execution_count": 13,
   "id": "cff15eb0-62c7-451d-a5f9-4576b24c879e",
   "metadata": {},
   "outputs": [
    {
     "data": {
      "text/plain": [
       "AIMessage(content='', additional_kwargs={'tool_calls': [{'index': 0, 'id': 'call_MqyGm8cmE4gLs0UzeC9YEd53', 'function': {'arguments': '{\"artist\":\"amy winehouse\"}', 'name': 'get_tracks_by_artist'}, 'type': 'function'}]}, response_metadata={'finish_reason': 'tool_calls', 'model_name': 'gpt-4-0125-preview'}, id='run-345f6edc-d45d-4e3a-9ac5-dc743bd9db0f-0', tool_calls=[{'name': 'get_tracks_by_artist', 'args': {'artist': 'amy winehouse'}, 'id': 'call_MqyGm8cmE4gLs0UzeC9YEd53', 'type': 'tool_call'}])"
      ]
     },
     "execution_count": 13,
     "metadata": {},
     "output_type": "execute_result"
    }
   ],
   "source": [
    "msgs = [HumanMessage(content=\"hi! can you help me find songs by amy whinehouse?\")]\n",
    "song_recc_chain.invoke(msgs)"
   ]
  },
  {
   "cell_type": "markdown",
   "id": "0a42c293-0816-4f3c-b4a3-5b9f3a0665d1",
   "metadata": {},
   "source": [
    "## Define the Generic Agent\n",
    "\n",
    "We now define a generic agent that is responsible for handling initial inquiries and routing to the right sub agent."
   ]
  },
  {
   "cell_type": "code",
   "execution_count": 14,
   "id": "73e74268",
   "metadata": {},
   "outputs": [],
   "source": [
    "from langchain_core.messages import SystemMessage, HumanMessage\n",
    "from pydantic import BaseModel, Field\n",
    "\n",
    "class Router(BaseModel):\n",
    "    \"\"\"Call this if you are able to route the user to the appropriate representative.\"\"\"\n",
    "    choice: str = Field(description=\"should be one of: music, customer\")\n",
    "\n",
    "system_message = \"\"\"Your job is to help as a customer service representative for a music store.\n",
    "\n",
    "You should interact politely with customers to try to figure out how you can help. You can help in a few ways:\n",
    "\n",
    "- Updating user information: if a customer wants to update the information in the user database. Call the router with `customer`\n",
    "- Recomending music: if a customer wants to find some music or information about music. Call the router with `music`\n",
    "\n",
    "If the user is asking or wants to ask about updating or accessing their information, send them to that route.\n",
    "If the user is asking or wants to ask about music, send them to that route.\n",
    "Otherwise, respond.\"\"\"\n",
    "def get_messages(messages):\n",
    "    return [SystemMessage(content=system_message)] + messages"
   ]
  },
  {
   "cell_type": "code",
   "execution_count": 15,
   "id": "ddf27314",
   "metadata": {},
   "outputs": [],
   "source": [
    "chain = get_messages | model.bind_tools([Router])"
   ]
  },
  {
   "cell_type": "code",
   "execution_count": 16,
   "id": "3c896f34",
   "metadata": {},
   "outputs": [
    {
     "data": {
      "text/plain": [
       "AIMessage(content='', additional_kwargs={'tool_calls': [{'index': 0, 'id': 'call_JAf1B3qGoRoWPpW90o3TyzX1', 'function': {'arguments': '{\"choice\":\"music\"}', 'name': 'Router'}, 'type': 'function'}]}, response_metadata={'finish_reason': 'tool_calls', 'model_name': 'gpt-4-0125-preview'}, id='run-de0f837a-803b-42e0-b933-8afe879fbe8b-0', tool_calls=[{'name': 'Router', 'args': {'choice': 'music'}, 'id': 'call_JAf1B3qGoRoWPpW90o3TyzX1', 'type': 'tool_call'}])"
      ]
     },
     "execution_count": 16,
     "metadata": {},
     "output_type": "execute_result"
    }
   ],
   "source": [
    "msgs = [HumanMessage(content=\"hi! can you help me find a good song?\")]\n",
    "chain.invoke(msgs)"
   ]
  },
  {
   "cell_type": "code",
   "execution_count": 17,
   "id": "40d86f59",
   "metadata": {},
   "outputs": [
    {
     "data": {
      "text/plain": [
       "AIMessage(content='', additional_kwargs={'tool_calls': [{'index': 0, 'id': 'call_6hO6KJSbGEIjUGPbLUa8e3Q6', 'function': {'arguments': '{\"choice\":\"customer\"}', 'name': 'Router'}, 'type': 'function'}]}, response_metadata={'finish_reason': 'tool_calls', 'model_name': 'gpt-4-0125-preview'}, id='run-7261cc73-073d-488c-a52e-c2c74afe4abd-0', tool_calls=[{'name': 'Router', 'args': {'choice': 'customer'}, 'id': 'call_6hO6KJSbGEIjUGPbLUa8e3Q6', 'type': 'tool_call'}])"
      ]
     },
     "execution_count": 17,
     "metadata": {},
     "output_type": "execute_result"
    }
   ],
   "source": [
    "msgs = [HumanMessage(content=\"hi! whats the email you have for me?\")]\n",
    "chain.invoke(msgs)"
   ]
  },
  {
   "cell_type": "code",
   "execution_count": 18,
   "id": "bd6ddd8b-7500-46a7-811d-3bcb937bda51",
   "metadata": {},
   "outputs": [],
   "source": [
    "from langchain_core.messages import AIMessage\n",
    "\n",
    "def add_name(message, name):\n",
    "    _dict = message.dict()\n",
    "    _dict[\"name\"] = name\n",
    "    return AIMessage(**_dict)"
   ]
  },
  {
   "cell_type": "code",
   "execution_count": 19,
   "id": "27494de5-8345-4c23-bc0e-81e0dd5d47d8",
   "metadata": {},
   "outputs": [],
   "source": [
    "from langgraph.graph import END\n",
    "import json\n",
    "\n",
    "def _get_last_ai_message(messages):\n",
    "    for m in messages[::-1]:\n",
    "        if isinstance(m, AIMessage):\n",
    "            return m\n",
    "    return None\n",
    "\n",
    "\n",
    "def _is_tool_call(msg):\n",
    "    return hasattr(msg, \"additional_kwargs\") and 'tool_calls' in msg.additional_kwargs\n",
    "\n",
    "\n",
    "def _route(messages):\n",
    "    last_message = messages[-1]\n",
    "    if isinstance(last_message, AIMessage):\n",
    "        if not _is_tool_call(last_message):\n",
    "            return END\n",
    "        else:\n",
    "            if last_message.name == \"general\":\n",
    "                tool_calls = last_message.additional_kwargs['tool_calls']\n",
    "                if len(tool_calls) > 1:\n",
    "                    raise ValueError\n",
    "                tool_call = tool_calls[0]\n",
    "                return json.loads(tool_call['function']['arguments'])['choice']\n",
    "            else:\n",
    "                return \"tools\"\n",
    "    last_m = _get_last_ai_message(messages)\n",
    "    if last_m is None:\n",
    "        return \"general\"\n",
    "    if last_m.name == \"music\":\n",
    "        return \"music\"\n",
    "    elif last_m.name == \"customer\":\n",
    "        return \"customer\"\n",
    "    else:\n",
    "        return \"general\""
   ]
  },
  {
   "cell_type": "code",
   "execution_count": 20,
   "id": "8aec704a-46fe-4fb3-bdee-11c3bbffc370",
   "metadata": {},
   "outputs": [
    {
     "name": "stderr",
     "output_type": "stream",
     "text": [
      "/var/folders/8h/s0ymf3w508l48r6ykqn826580000gn/T/ipykernel_77614/1703105972.py:4: LangGraphDeprecationWarning: ToolExecutor is deprecated as of version 0.2.0 and will be removed in 0.3.0. Use langgraph.prebuilt.ToolNode instead.\n",
      "  tool_executor = ToolExecutor(tools)\n"
     ]
    }
   ],
   "source": [
    "\n",
    "from langgraph.prebuilt import ToolExecutor, ToolInvocation\n",
    "\n",
    "tools = [get_albums_by_artist, get_tracks_by_artist, check_for_songs, get_customer_info]\n",
    "tool_executor = ToolExecutor(tools)"
   ]
  },
  {
   "cell_type": "code",
   "execution_count": 21,
   "id": "4d5b75c6-73e0-4922-a765-a15be63f869e",
   "metadata": {},
   "outputs": [],
   "source": [
    "def _filter_out_routes(messages):\n",
    "    ms = []\n",
    "    for m in messages:\n",
    "        if _is_tool_call(m):\n",
    "            if m.name == \"general\":\n",
    "                continue\n",
    "        ms.append(m)\n",
    "    return ms"
   ]
  },
  {
   "cell_type": "code",
   "execution_count": 22,
   "id": "fd4dbf98-dbb3-411a-bad6-2bb334072aaf",
   "metadata": {},
   "outputs": [],
   "source": [
    "from functools import partial\n",
    "\n",
    "general_node = _filter_out_routes | chain | partial(add_name, name=\"general\")\n",
    "music_node = _filter_out_routes | song_recc_chain | partial(add_name, name=\"music\")\n",
    "customer_node = _filter_out_routes | customer_chain | partial(add_name, name=\"customer\")"
   ]
  },
  {
   "cell_type": "code",
   "execution_count": 23,
   "id": "9a1d7243",
   "metadata": {},
   "outputs": [],
   "source": [
    "from langchain_core.messages import ToolMessage\n",
    "\n",
    "async def call_tool(messages):\n",
    "    actions = []\n",
    "    # Based on the continue condition\n",
    "    # we know the last message involves a function call\n",
    "    last_message = messages[-1]\n",
    "    for tool_call in last_message.additional_kwargs[\"tool_calls\"]:\n",
    "        function = tool_call[\"function\"]\n",
    "        function_name = function[\"name\"]\n",
    "        _tool_input = json.loads(function[\"arguments\"] or \"{}\")\n",
    "        # We construct an ToolInvocation from the function_call\n",
    "        actions.append(\n",
    "            ToolInvocation(\n",
    "                tool=function_name,\n",
    "                tool_input=_tool_input,\n",
    "            )\n",
    "        )\n",
    "    # We call the tool_executor and get back a response\n",
    "    responses = await tool_executor.abatch(actions)\n",
    "    # We use the response to create a ToolMessage\n",
    "    tool_messages = [\n",
    "        ToolMessage(\n",
    "            tool_call_id=tool_call[\"id\"],\n",
    "            content=str(response),\n",
    "            additional_kwargs={\"name\": tool_call[\"function\"][\"name\"]},\n",
    "        )\n",
    "        for tool_call, response in zip(\n",
    "            last_message.additional_kwargs[\"tool_calls\"], responses\n",
    "        )\n",
    "    ]\n",
    "    return tool_messages"
   ]
  },
  {
   "cell_type": "code",
   "execution_count": 24,
   "id": "dcade924",
   "metadata": {},
   "outputs": [],
   "source": [
    "from langgraph.graph import MessageGraph\n",
    "from langgraph.checkpoint.sqlite import SqliteSaver\n",
    "\n",
    "memory = SqliteSaver.from_conn_string(\":memory:\")\n",
    "graph = MessageGraph()\n",
    "nodes = {\"general\": \"general\", \"music\": \"music\", END: END, \"tools\": \"tools\", \"customer\": \"customer\"}\n",
    "# Define a new graph\n",
    "workflow = MessageGraph()\n",
    "workflow.add_node(\"general\", general_node)\n",
    "workflow.add_node(\"music\", music_node)\n",
    "workflow.add_node(\"customer\", customer_node)\n",
    "workflow.add_node(\"tools\", call_tool)\n",
    "workflow.add_conditional_edges(\"general\", _route, nodes)\n",
    "workflow.add_conditional_edges(\"tools\", _route, nodes)\n",
    "workflow.add_conditional_edges(\"music\", _route, nodes)\n",
    "workflow.add_conditional_edges(\"customer\", _route, nodes)\n",
    "workflow.set_conditional_entry_point(_route, nodes)\n",
    "graph = workflow.compile()"
   ]
  },
  {
   "cell_type": "code",
   "execution_count": 25,
   "id": "ac65d6d2",
   "metadata": {},
   "outputs": [
    {
     "name": "stderr",
     "output_type": "stream",
     "text": [
      "/var/folders/8h/s0ymf3w508l48r6ykqn826580000gn/T/ipykernel_77614/13706861.py:4: PydanticDeprecatedSince20: The `dict` method is deprecated; use `model_dump` instead. Deprecated in Pydantic V2.0 to be removed in V3.0. See Pydantic V2 Migration Guide at https://errors.pydantic.dev/2.10/migration/\n",
      "  _dict = message.dict()\n"
     ]
    },
    {
     "name": "stdout",
     "output_type": "stream",
     "text": [
      "Output from node 'general':\n",
      "---\n",
      "content='' additional_kwargs={'tool_calls': [{'index': 0, 'id': 'call_3KjWMxZmjOO4AI023AHK4Yyn', 'function': {'arguments': '{\"choice\":\"customer\"}', 'name': 'Router'}, 'type': 'function'}]} response_metadata={'finish_reason': 'tool_calls', 'model_name': 'gpt-4-0125-preview'} name='general' id='run-5265a852-fa99-47e0-b67d-c79c93cdd2d8-0' tool_calls=[{'name': 'Router', 'args': {'choice': 'customer'}, 'id': 'call_3KjWMxZmjOO4AI023AHK4Yyn', 'type': 'tool_call'}]\n",
      "\n",
      "---\n",
      "\n"
     ]
    },
    {
     "name": "stderr",
     "output_type": "stream",
     "text": [
      "/var/folders/8h/s0ymf3w508l48r6ykqn826580000gn/T/ipykernel_77614/13706861.py:4: PydanticDeprecatedSince20: The `dict` method is deprecated; use `model_dump` instead. Deprecated in Pydantic V2.0 to be removed in V3.0. See Pydantic V2 Migration Guide at https://errors.pydantic.dev/2.10/migration/\n",
      "  _dict = message.dict()\n"
     ]
    },
    {
     "name": "stdout",
     "output_type": "stream",
     "text": [
      "Output from node 'customer':\n",
      "---\n",
      "content=\"To help you with that, I'll need your customer ID. Could you provide it, please?\" additional_kwargs={} response_metadata={'finish_reason': 'stop', 'model_name': 'gpt-4-0125-preview'} name='customer' id='run-12d0f431-cb27-495d-b7fb-d1e4c87392e5-0'\n",
      "\n",
      "---\n",
      "\n"
     ]
    },
    {
     "name": "stderr",
     "output_type": "stream",
     "text": [
      "/var/folders/8h/s0ymf3w508l48r6ykqn826580000gn/T/ipykernel_77614/13706861.py:4: PydanticDeprecatedSince20: The `dict` method is deprecated; use `model_dump` instead. Deprecated in Pydantic V2.0 to be removed in V3.0. See Pydantic V2 Migration Guide at https://errors.pydantic.dev/2.10/migration/\n",
      "  _dict = message.dict()\n"
     ]
    },
    {
     "name": "stdout",
     "output_type": "stream",
     "text": [
      "Output from node 'general':\n",
      "---\n",
      "content='' additional_kwargs={'tool_calls': [{'index': 0, 'id': 'call_03ee5NThSoUmvfXxHU9obq5v', 'function': {'arguments': '{\"choice\":\"customer\"}', 'name': 'Router'}, 'type': 'function'}]} response_metadata={'finish_reason': 'tool_calls', 'model_name': 'gpt-4-0125-preview'} name='general' id='run-c9e34335-b842-4942-a797-50a4da5c22bb-0' tool_calls=[{'name': 'Router', 'args': {'choice': 'customer'}, 'id': 'call_03ee5NThSoUmvfXxHU9obq5v', 'type': 'tool_call'}]\n",
      "\n",
      "---\n",
      "\n"
     ]
    },
    {
     "name": "stderr",
     "output_type": "stream",
     "text": [
      "/var/folders/8h/s0ymf3w508l48r6ykqn826580000gn/T/ipykernel_77614/13706861.py:4: PydanticDeprecatedSince20: The `dict` method is deprecated; use `model_dump` instead. Deprecated in Pydantic V2.0 to be removed in V3.0. See Pydantic V2 Migration Guide at https://errors.pydantic.dev/2.10/migration/\n",
      "  _dict = message.dict()\n",
      "/var/folders/8h/s0ymf3w508l48r6ykqn826580000gn/T/ipykernel_77614/1027942702.py:14: LangGraphDeprecationWarning: ToolInvocation is deprecated as of version 0.2.0 and will be removed in 0.3.0. Use langgraph.prebuilt.ToolNode instead.\n",
      "  ToolInvocation(\n"
     ]
    },
    {
     "name": "stdout",
     "output_type": "stream",
     "text": [
      "Output from node 'customer':\n",
      "---\n",
      "content='' additional_kwargs={'tool_calls': [{'index': 0, 'id': 'call_9uPzs24j4EBCDFXAU4GnmZvQ', 'function': {'arguments': '{\"customer_id\":1}', 'name': 'get_customer_info'}, 'type': 'function'}]} response_metadata={'finish_reason': 'tool_calls', 'model_name': 'gpt-4-0125-preview'} name='customer' id='run-0d388933-ac8c-4804-b632-e41c6667eb4a-0' tool_calls=[{'name': 'get_customer_info', 'args': {'customer_id': 1}, 'id': 'call_9uPzs24j4EBCDFXAU4GnmZvQ', 'type': 'tool_call'}]\n",
      "\n",
      "---\n",
      "\n",
      "Output from node 'tools':\n",
      "---\n",
      "[ToolMessage(content=\"[(1, 'Luís', 'Gonçalves', 'Embraer - Empresa Brasileira de Aeronáutica S.A.', 'Av. Brigadeiro Faria Lima, 2170', 'São José dos Campos', 'SP', 'Brazil', '12227-000', '+55 (12) 3923-5555', '+55 (12) 3923-5566', 'luisg@embraer.com.br', 3)]\", id='c83d6af6-f169-43e4-92e2-1a97ef75847b', tool_call_id='call_9uPzs24j4EBCDFXAU4GnmZvQ')]\n",
      "\n",
      "---\n",
      "\n"
     ]
    },
    {
     "name": "stderr",
     "output_type": "stream",
     "text": [
      "/var/folders/8h/s0ymf3w508l48r6ykqn826580000gn/T/ipykernel_77614/13706861.py:4: PydanticDeprecatedSince20: The `dict` method is deprecated; use `model_dump` instead. Deprecated in Pydantic V2.0 to be removed in V3.0. See Pydantic V2 Migration Guide at https://errors.pydantic.dev/2.10/migration/\n",
      "  _dict = message.dict()\n"
     ]
    },
    {
     "name": "stdout",
     "output_type": "stream",
     "text": [
      "Output from node 'customer':\n",
      "---\n",
      "content='Your email is luisg@embraer.com.br. Is there anything else I can help you with?' additional_kwargs={} response_metadata={'finish_reason': 'stop', 'model_name': 'gpt-4-0125-preview'} name='customer' id='run-b92fb2fb-3300-43a3-a923-6708c7394b54-0'\n",
      "\n",
      "---\n",
      "\n"
     ]
    },
    {
     "name": "stderr",
     "output_type": "stream",
     "text": [
      "/var/folders/8h/s0ymf3w508l48r6ykqn826580000gn/T/ipykernel_77614/13706861.py:4: PydanticDeprecatedSince20: The `dict` method is deprecated; use `model_dump` instead. Deprecated in Pydantic V2.0 to be removed in V3.0. See Pydantic V2 Migration Guide at https://errors.pydantic.dev/2.10/migration/\n",
      "  _dict = message.dict()\n"
     ]
    },
    {
     "name": "stdout",
     "output_type": "stream",
     "text": [
      "Output from node 'general':\n",
      "---\n",
      "content='' additional_kwargs={'tool_calls': [{'index': 0, 'id': 'call_J5qnAltgsG6YG6Zoz6PkfXLt', 'function': {'arguments': '{\"choice\":\"music\"}', 'name': 'Router'}, 'type': 'function'}]} response_metadata={'finish_reason': 'tool_calls', 'model_name': 'gpt-4-0125-preview'} name='general' id='run-1cee46fd-884c-4332-83ca-00bd8fa55ecf-0' tool_calls=[{'name': 'Router', 'args': {'choice': 'music'}, 'id': 'call_J5qnAltgsG6YG6Zoz6PkfXLt', 'type': 'tool_call'}]\n",
      "\n",
      "---\n",
      "\n"
     ]
    },
    {
     "name": "stderr",
     "output_type": "stream",
     "text": [
      "/var/folders/8h/s0ymf3w508l48r6ykqn826580000gn/T/ipykernel_77614/13706861.py:4: PydanticDeprecatedSince20: The `dict` method is deprecated; use `model_dump` instead. Deprecated in Pydantic V2.0 to be removed in V3.0. See Pydantic V2 Migration Guide at https://errors.pydantic.dev/2.10/migration/\n",
      "  _dict = message.dict()\n"
     ]
    },
    {
     "name": "stdout",
     "output_type": "stream",
     "text": [
      "Output from node 'music':\n",
      "---\n",
      "content=\"Of course! Please tell me the name of the song or the artist you're looking for, and I'll do my best to help you find it.\" additional_kwargs={} response_metadata={'finish_reason': 'stop', 'model_name': 'gpt-4-0125-preview'} name='music' id='run-ca1770ea-8043-487f-9082-be954b26f2e3-0'\n",
      "\n",
      "---\n",
      "\n"
     ]
    },
    {
     "name": "stderr",
     "output_type": "stream",
     "text": [
      "/var/folders/8h/s0ymf3w508l48r6ykqn826580000gn/T/ipykernel_77614/13706861.py:4: PydanticDeprecatedSince20: The `dict` method is deprecated; use `model_dump` instead. Deprecated in Pydantic V2.0 to be removed in V3.0. See Pydantic V2 Migration Guide at https://errors.pydantic.dev/2.10/migration/\n",
      "  _dict = message.dict()\n"
     ]
    },
    {
     "name": "stdout",
     "output_type": "stream",
     "text": [
      "Output from node 'general':\n",
      "---\n",
      "content='' additional_kwargs={'tool_calls': [{'index': 0, 'id': 'call_Ey24RCbEF4XGarzwMQniXfEm', 'function': {'arguments': '{\"choice\":\"music\"}', 'name': 'Router'}, 'type': 'function'}]} response_metadata={'finish_reason': 'tool_calls', 'model_name': 'gpt-4-0125-preview'} name='general' id='run-c32b3dbe-47eb-48e7-a7f7-c6f7c305308f-0' tool_calls=[{'name': 'Router', 'args': {'choice': 'music'}, 'id': 'call_Ey24RCbEF4XGarzwMQniXfEm', 'type': 'tool_call'}]\n",
      "\n",
      "---\n",
      "\n"
     ]
    },
    {
     "name": "stderr",
     "output_type": "stream",
     "text": [
      "/var/folders/8h/s0ymf3w508l48r6ykqn826580000gn/T/ipykernel_77614/13706861.py:4: PydanticDeprecatedSince20: The `dict` method is deprecated; use `model_dump` instead. Deprecated in Pydantic V2.0 to be removed in V3.0. See Pydantic V2 Migration Guide at https://errors.pydantic.dev/2.10/migration/\n",
      "  _dict = message.dict()\n",
      "/var/folders/8h/s0ymf3w508l48r6ykqn826580000gn/T/ipykernel_77614/1027942702.py:14: LangGraphDeprecationWarning: ToolInvocation is deprecated as of version 0.2.0 and will be removed in 0.3.0. Use langgraph.prebuilt.ToolNode instead.\n",
      "  ToolInvocation(\n",
      "/var/folders/8h/s0ymf3w508l48r6ykqn826580000gn/T/ipykernel_77614/3870772948.py:4: LangChainDeprecationWarning: The method `BaseRetriever.get_relevant_documents` was deprecated in langchain-core 0.1.46 and will be removed in 1.0. Use :meth:`~invoke` instead.\n",
      "  docs = artist_retriever.get_relevant_documents(artist)\n"
     ]
    },
    {
     "name": "stdout",
     "output_type": "stream",
     "text": [
      "Output from node 'music':\n",
      "---\n",
      "content='' additional_kwargs={'tool_calls': [{'index': 0, 'id': 'call_x6n5dM1wAf7aPq6kdx5u1NuT', 'function': {'arguments': '{\"artist\": \"amy winehouse\"}', 'name': 'get_albums_by_artist'}, 'type': 'function'}, {'index': 1, 'id': 'call_2x863SDETZCG5u61Z7mfiIPy', 'function': {'arguments': '{\"artist\": \"amy winehouse\"}', 'name': 'get_tracks_by_artist'}, 'type': 'function'}]} response_metadata={'finish_reason': 'tool_calls', 'model_name': 'gpt-4-0125-preview'} name='music' id='run-6ebf83ef-2115-4422-89f3-387462dbf960-0' tool_calls=[{'name': 'get_albums_by_artist', 'args': {'artist': 'amy winehouse'}, 'id': 'call_x6n5dM1wAf7aPq6kdx5u1NuT', 'type': 'tool_call'}, {'name': 'get_tracks_by_artist', 'args': {'artist': 'amy winehouse'}, 'id': 'call_2x863SDETZCG5u61Z7mfiIPy', 'type': 'tool_call'}]\n",
      "\n",
      "---\n",
      "\n",
      "Output from node 'tools':\n",
      "---\n",
      "[ToolMessage(content=\"[{'Title': 'Jagged Little Pill', 'Name': 'Alanis Morissette'}, {'Title': 'Audioslave', 'Name': 'Audioslave'}, {'Title': 'Out Of Exile', 'Name': 'Audioslave'}, {'Title': 'Revelations', 'Name': 'Audioslave'}, {'Title': 'Bark at the Moon (Remastered)', 'Name': 'Ozzy Osbourne'}, {'Title': 'Blizzard of Ozz', 'Name': 'Ozzy Osbourne'}, {'Title': 'Diary of a Madman (Remastered)', 'Name': 'Ozzy Osbourne'}, {'Title': 'No More Tears (Remastered)', 'Name': 'Ozzy Osbourne'}, {'Title': 'Tribute', 'Name': 'Ozzy Osbourne'}, {'Title': 'Speak of the Devil', 'Name': 'Ozzy Osbourne'}, {'Title': 'Back to Black', 'Name': 'Amy Winehouse'}, {'Title': 'Frank', 'Name': 'Amy Winehouse'}]\", id='c9aa0d8b-2a38-49d5-b6b3-35cfc7b00668', tool_call_id='call_x6n5dM1wAf7aPq6kdx5u1NuT'), ToolMessage(content='[{\\'SongName\\': \\'All I Really Want\\', \\'ArtistName\\': \\'Alanis Morissette\\'}, {\\'SongName\\': \\'You Oughta Know\\', \\'ArtistName\\': \\'Alanis Morissette\\'}, {\\'SongName\\': \\'Perfect\\', \\'ArtistName\\': \\'Alanis Morissette\\'}, {\\'SongName\\': \\'Hand In My Pocket\\', \\'ArtistName\\': \\'Alanis Morissette\\'}, {\\'SongName\\': \\'Right Through You\\', \\'ArtistName\\': \\'Alanis Morissette\\'}, {\\'SongName\\': \\'Forgiven\\', \\'ArtistName\\': \\'Alanis Morissette\\'}, {\\'SongName\\': \\'You Learn\\', \\'ArtistName\\': \\'Alanis Morissette\\'}, {\\'SongName\\': \\'Head Over Feet\\', \\'ArtistName\\': \\'Alanis Morissette\\'}, {\\'SongName\\': \\'Mary Jane\\', \\'ArtistName\\': \\'Alanis Morissette\\'}, {\\'SongName\\': \\'Ironic\\', \\'ArtistName\\': \\'Alanis Morissette\\'}, {\\'SongName\\': \\'Not The Doctor\\', \\'ArtistName\\': \\'Alanis Morissette\\'}, {\\'SongName\\': \\'Wake Up\\', \\'ArtistName\\': \\'Alanis Morissette\\'}, {\\'SongName\\': \\'You Oughta Know (Alternate)\\', \\'ArtistName\\': \\'Alanis Morissette\\'}, {\\'SongName\\': \\'Cochise\\', \\'ArtistName\\': \\'Audioslave\\'}, {\\'SongName\\': \\'Show Me How to Live\\', \\'ArtistName\\': \\'Audioslave\\'}, {\\'SongName\\': \\'Gasoline\\', \\'ArtistName\\': \\'Audioslave\\'}, {\\'SongName\\': \\'What You Are\\', \\'ArtistName\\': \\'Audioslave\\'}, {\\'SongName\\': \\'Like a Stone\\', \\'ArtistName\\': \\'Audioslave\\'}, {\\'SongName\\': \\'Set It Off\\', \\'ArtistName\\': \\'Audioslave\\'}, {\\'SongName\\': \\'Shadow on the Sun\\', \\'ArtistName\\': \\'Audioslave\\'}, {\\'SongName\\': \\'I am the Highway\\', \\'ArtistName\\': \\'Audioslave\\'}, {\\'SongName\\': \\'Exploder\\', \\'ArtistName\\': \\'Audioslave\\'}, {\\'SongName\\': \\'Hypnotize\\', \\'ArtistName\\': \\'Audioslave\\'}, {\\'SongName\\': \"Bring\\'em Back Alive\", \\'ArtistName\\': \\'Audioslave\\'}, {\\'SongName\\': \\'Light My Way\\', \\'ArtistName\\': \\'Audioslave\\'}, {\\'SongName\\': \\'Getaway Car\\', \\'ArtistName\\': \\'Audioslave\\'}, {\\'SongName\\': \\'The Last Remaining Light\\', \\'ArtistName\\': \\'Audioslave\\'}, {\\'SongName\\': \\'Your Time Has Come\\', \\'ArtistName\\': \\'Audioslave\\'}, {\\'SongName\\': \\'Out Of Exile\\', \\'ArtistName\\': \\'Audioslave\\'}, {\\'SongName\\': \\'Be Yourself\\', \\'ArtistName\\': \\'Audioslave\\'}, {\\'SongName\\': \"Doesn\\'t Remind Me\", \\'ArtistName\\': \\'Audioslave\\'}, {\\'SongName\\': \\'Drown Me Slowly\\', \\'ArtistName\\': \\'Audioslave\\'}, {\\'SongName\\': \"Heaven\\'s Dead\", \\'ArtistName\\': \\'Audioslave\\'}, {\\'SongName\\': \\'The Worm\\', \\'ArtistName\\': \\'Audioslave\\'}, {\\'SongName\\': \\'Man Or Animal\\', \\'ArtistName\\': \\'Audioslave\\'}, {\\'SongName\\': \\'Yesterday To Tomorrow\\', \\'ArtistName\\': \\'Audioslave\\'}, {\\'SongName\\': \\'Dandelion\\', \\'ArtistName\\': \\'Audioslave\\'}, {\\'SongName\\': \\'#1 Zero\\', \\'ArtistName\\': \\'Audioslave\\'}, {\\'SongName\\': \\'The Curse\\', \\'ArtistName\\': \\'Audioslave\\'}, {\\'SongName\\': \\'Revelations\\', \\'ArtistName\\': \\'Audioslave\\'}, {\\'SongName\\': \\'One and the Same\\', \\'ArtistName\\': \\'Audioslave\\'}, {\\'SongName\\': \\'Sound of a Gun\\', \\'ArtistName\\': \\'Audioslave\\'}, {\\'SongName\\': \\'Until We Fall\\', \\'ArtistName\\': \\'Audioslave\\'}, {\\'SongName\\': \\'Original Fire\\', \\'ArtistName\\': \\'Audioslave\\'}, {\\'SongName\\': \\'Broken City\\', \\'ArtistName\\': \\'Audioslave\\'}, {\\'SongName\\': \\'Somedays\\', \\'ArtistName\\': \\'Audioslave\\'}, {\\'SongName\\': \\'Shape of Things to Come\\', \\'ArtistName\\': \\'Audioslave\\'}, {\\'SongName\\': \\'Jewel of the Summertime\\', \\'ArtistName\\': \\'Audioslave\\'}, {\\'SongName\\': \\'Wide Awake\\', \\'ArtistName\\': \\'Audioslave\\'}, {\\'SongName\\': \\'Nothing Left to Say But Goodbye\\', \\'ArtistName\\': \\'Audioslave\\'}, {\\'SongName\\': \\'Moth\\', \\'ArtistName\\': \\'Audioslave\\'}, {\\'SongName\\': \\'Show Me How to Live (Live at the Quart Festival)\\', \\'ArtistName\\': \\'Audioslave\\'}, {\\'SongName\\': \\'Band Members Discuss Tracks from \"Revelations\"\\', \\'ArtistName\\': \\'Audioslave\\'}, {\\'SongName\\': \\'Bark at the Moon\\', \\'ArtistName\\': \\'Ozzy Osbourne\\'}, {\\'SongName\\': \"I Don\\'t Know\", \\'ArtistName\\': \\'Ozzy Osbourne\\'}, {\\'SongName\\': \\'Crazy Train\\', \\'ArtistName\\': \\'Ozzy Osbourne\\'}, {\\'SongName\\': \\'Flying High Again\\', \\'ArtistName\\': \\'Ozzy Osbourne\\'}, {\\'SongName\\': \"Mama, I\\'m Coming Home\", \\'ArtistName\\': \\'Ozzy Osbourne\\'}, {\\'SongName\\': \\'No More Tears\\', \\'ArtistName\\': \\'Ozzy Osbourne\\'}, {\\'SongName\\': \"I Don\\'t Know\", \\'ArtistName\\': \\'Ozzy Osbourne\\'}, {\\'SongName\\': \\'Crazy Train\\', \\'ArtistName\\': \\'Ozzy Osbourne\\'}, {\\'SongName\\': \\'Believer\\', \\'ArtistName\\': \\'Ozzy Osbourne\\'}, {\\'SongName\\': \\'Mr. Crowley\\', \\'ArtistName\\': \\'Ozzy Osbourne\\'}, {\\'SongName\\': \\'Flying High Again\\', \\'ArtistName\\': \\'Ozzy Osbourne\\'}, {\\'SongName\\': \\'Relvelation (Mother Earth)\\', \\'ArtistName\\': \\'Ozzy Osbourne\\'}, {\\'SongName\\': \\'Steal Away (The Night)\\', \\'ArtistName\\': \\'Ozzy Osbourne\\'}, {\\'SongName\\': \\'Suicide Solution (With Guitar Solo)\\', \\'ArtistName\\': \\'Ozzy Osbourne\\'}, {\\'SongName\\': \\'Iron Man\\', \\'ArtistName\\': \\'Ozzy Osbourne\\'}, {\\'SongName\\': \\'Children Of The Grave\\', \\'ArtistName\\': \\'Ozzy Osbourne\\'}, {\\'SongName\\': \\'Paranoid\\', \\'ArtistName\\': \\'Ozzy Osbourne\\'}, {\\'SongName\\': \\'Goodbye To Romance\\', \\'ArtistName\\': \\'Ozzy Osbourne\\'}, {\\'SongName\\': \\'No Bone Movies\\', \\'ArtistName\\': \\'Ozzy Osbourne\\'}, {\\'SongName\\': \\'Dee\\', \\'ArtistName\\': \\'Ozzy Osbourne\\'}, {\\'SongName\\': \\'Sympton of the Universe\\', \\'ArtistName\\': \\'Ozzy Osbourne\\'}, {\\'SongName\\': \\'Snowblind\\', \\'ArtistName\\': \\'Ozzy Osbourne\\'}, {\\'SongName\\': \\'Black Sabbath\\', \\'ArtistName\\': \\'Ozzy Osbourne\\'}, {\\'SongName\\': \\'Fairies Wear Boots\\', \\'ArtistName\\': \\'Ozzy Osbourne\\'}, {\\'SongName\\': \\'War Pigs\\', \\'ArtistName\\': \\'Ozzy Osbourne\\'}, {\\'SongName\\': \\'The Wizard\\', \\'ArtistName\\': \\'Ozzy Osbourne\\'}, {\\'SongName\\': \\'N.I.B.\\', \\'ArtistName\\': \\'Ozzy Osbourne\\'}, {\\'SongName\\': \\'Sweet Leaf\\', \\'ArtistName\\': \\'Ozzy Osbourne\\'}, {\\'SongName\\': \\'Never Say Die\\', \\'ArtistName\\': \\'Ozzy Osbourne\\'}, {\\'SongName\\': \\'Sabbath, Bloody Sabbath\\', \\'ArtistName\\': \\'Ozzy Osbourne\\'}, {\\'SongName\\': \\'Iron Man/Children of the Grave\\', \\'ArtistName\\': \\'Ozzy Osbourne\\'}, {\\'SongName\\': \\'Paranoid\\', \\'ArtistName\\': \\'Ozzy Osbourne\\'}, {\\'SongName\\': \\'Rehab\\', \\'ArtistName\\': \\'Amy Winehouse\\'}, {\\'SongName\\': \"You Know I\\'m No Good\", \\'ArtistName\\': \\'Amy Winehouse\\'}, {\\'SongName\\': \\'Me & Mr. Jones\\', \\'ArtistName\\': \\'Amy Winehouse\\'}, {\\'SongName\\': \\'Just Friends\\', \\'ArtistName\\': \\'Amy Winehouse\\'}, {\\'SongName\\': \\'Back to Black\\', \\'ArtistName\\': \\'Amy Winehouse\\'}, {\\'SongName\\': \\'Love Is a Losing Game\\', \\'ArtistName\\': \\'Amy Winehouse\\'}, {\\'SongName\\': \\'Tears Dry On Their Own\\', \\'ArtistName\\': \\'Amy Winehouse\\'}, {\\'SongName\\': \\'Wake Up Alone\\', \\'ArtistName\\': \\'Amy Winehouse\\'}, {\\'SongName\\': \\'Some Unholy War\\', \\'ArtistName\\': \\'Amy Winehouse\\'}, {\\'SongName\\': \\'He Can Only Hold Her\\', \\'ArtistName\\': \\'Amy Winehouse\\'}, {\\'SongName\\': \"You Know I\\'m No Good (feat. Ghostface Killah)\", \\'ArtistName\\': \\'Amy Winehouse\\'}, {\\'SongName\\': \\'Rehab (Hot Chip Remix)\\', \\'ArtistName\\': \\'Amy Winehouse\\'}, {\\'SongName\\': \\'Intro / Stronger Than Me\\', \\'ArtistName\\': \\'Amy Winehouse\\'}, {\\'SongName\\': \\'You Sent Me Flying / Cherry\\', \\'ArtistName\\': \\'Amy Winehouse\\'}, {\\'SongName\\': \\'F**k Me Pumps\\', \\'ArtistName\\': \\'Amy Winehouse\\'}, {\\'SongName\\': \\'I Heard Love Is Blind\\', \\'ArtistName\\': \\'Amy Winehouse\\'}, {\\'SongName\\': \\'(There Is) No Greater Love (Teo Licks)\\', \\'ArtistName\\': \\'Amy Winehouse\\'}, {\\'SongName\\': \\'In My Bed\\', \\'ArtistName\\': \\'Amy Winehouse\\'}, {\\'SongName\\': \\'Take the Box\\', \\'ArtistName\\': \\'Amy Winehouse\\'}, {\\'SongName\\': \\'October Song\\', \\'ArtistName\\': \\'Amy Winehouse\\'}, {\\'SongName\\': \\'What Is It About Men\\', \\'ArtistName\\': \\'Amy Winehouse\\'}, {\\'SongName\\': \\'Help Yourself\\', \\'ArtistName\\': \\'Amy Winehouse\\'}, {\\'SongName\\': \\'Amy Amy Amy (Outro)\\', \\'ArtistName\\': \\'Amy Winehouse\\'}]', id='6d4b28e7-6ceb-466c-b7fe-a46c5e6a4319', tool_call_id='call_2x863SDETZCG5u61Z7mfiIPy')]\n",
      "\n",
      "---\n",
      "\n"
     ]
    },
    {
     "name": "stderr",
     "output_type": "stream",
     "text": [
      "/var/folders/8h/s0ymf3w508l48r6ykqn826580000gn/T/ipykernel_77614/13706861.py:4: PydanticDeprecatedSince20: The `dict` method is deprecated; use `model_dump` instead. Deprecated in Pydantic V2.0 to be removed in V3.0. See Pydantic V2 Migration Guide at https://errors.pydantic.dev/2.10/migration/\n",
      "  _dict = message.dict()\n"
     ]
    },
    {
     "name": "stdout",
     "output_type": "stream",
     "text": [
      "Output from node 'music':\n",
      "---\n",
      "content=\"Here are some albums and songs by Amy Winehouse:\\n\\n### Albums\\n- **Back to Black**\\n- **Frank**\\n\\n### Songs from Amy Winehouse\\n- **Rehab**\\n- **You Know I'm No Good**\\n- **Me & Mr. Jones**\\n- **Just Friends**\\n- **Back to Black**\\n- **Love Is a Losing Game**\\n- **Tears Dry On Their Own**\\n- **Wake Up Alone**\\n- **Some Unholy War**\\n- **He Can Only Hold Her**\\n- **You Know I'm No Good (feat. Ghostface Killah)**\\n- **Rehab (Hot Chip Remix)**\\n- **Intro / Stronger Than Me**\\n- **You Sent Me Flying / Cherry**\\n- **F**k Me Pumps**\\n- **I Heard Love Is Blind**\\n- **(There Is) No Greater Love (Teo Licks)**\\n- **In My Bed**\\n- **Take the Box**\\n- **October Song**\\n- **What Is It About Men**\\n- **Help Yourself**\\n- **Amy Amy Amy (Outro)**\\n\\nThese are just a few selections from her discography. If you're looking for a specific song or album by Amy Winehouse that's not listed here, please let me know!\" additional_kwargs={} response_metadata={'finish_reason': 'stop', 'model_name': 'gpt-4-0125-preview'} name='music' id='run-d539cd6d-749e-49c9-bf1c-d0a930bc2aad-0'\n",
      "\n",
      "---\n",
      "\n"
     ]
    },
    {
     "name": "stderr",
     "output_type": "stream",
     "text": [
      "/var/folders/8h/s0ymf3w508l48r6ykqn826580000gn/T/ipykernel_77614/13706861.py:4: PydanticDeprecatedSince20: The `dict` method is deprecated; use `model_dump` instead. Deprecated in Pydantic V2.0 to be removed in V3.0. See Pydantic V2 Migration Guide at https://errors.pydantic.dev/2.10/migration/\n",
      "  _dict = message.dict()\n"
     ]
    },
    {
     "name": "stdout",
     "output_type": "stream",
     "text": [
      "Output from node 'general':\n",
      "---\n",
      "content='' additional_kwargs={'tool_calls': [{'index': 0, 'id': 'call_GE1h1Z2MxKx31YrB7UxFTB1f', 'function': {'arguments': '{\"choice\":\"music\"}', 'name': 'Router'}, 'type': 'function'}]} response_metadata={'finish_reason': 'tool_calls', 'model_name': 'gpt-4-0125-preview'} name='general' id='run-763dd316-6199-4387-b61b-980a3c07db85-0' tool_calls=[{'name': 'Router', 'args': {'choice': 'music'}, 'id': 'call_GE1h1Z2MxKx31YrB7UxFTB1f', 'type': 'tool_call'}]\n",
      "\n",
      "---\n",
      "\n"
     ]
    },
    {
     "name": "stderr",
     "output_type": "stream",
     "text": [
      "/var/folders/8h/s0ymf3w508l48r6ykqn826580000gn/T/ipykernel_77614/13706861.py:4: PydanticDeprecatedSince20: The `dict` method is deprecated; use `model_dump` instead. Deprecated in Pydantic V2.0 to be removed in V3.0. See Pydantic V2 Migration Guide at https://errors.pydantic.dev/2.10/migration/\n",
      "  _dict = message.dict()\n",
      "/var/folders/8h/s0ymf3w508l48r6ykqn826580000gn/T/ipykernel_77614/1027942702.py:14: LangGraphDeprecationWarning: ToolInvocation is deprecated as of version 0.2.0 and will be removed in 0.3.0. Use langgraph.prebuilt.ToolNode instead.\n",
      "  ToolInvocation(\n"
     ]
    },
    {
     "name": "stdout",
     "output_type": "stream",
     "text": [
      "Output from node 'music':\n",
      "---\n",
      "content='' additional_kwargs={'tool_calls': [{'index': 0, 'id': 'call_JRwdSRKPxerAIfoYl7c6rMNl', 'function': {'arguments': '{\"song_title\":\"back in black\"}', 'name': 'check_for_songs'}, 'type': 'function'}]} response_metadata={'finish_reason': 'tool_calls', 'model_name': 'gpt-4-0125-preview'} name='music' id='run-741c8d7c-7a7f-4be0-8505-a4b734d7988b-0' tool_calls=[{'name': 'check_for_songs', 'args': {'song_title': 'back in black'}, 'id': 'call_JRwdSRKPxerAIfoYl7c6rMNl', 'type': 'tool_call'}]\n",
      "\n",
      "---\n",
      "\n",
      "Output from node 'tools':\n",
      "---\n",
      "[ToolMessage(content=\"[Document(metadata={'id': '158eb6ae-a1d2-47ae-a2a0-7a9e1fa59791', 'TrackId': 3459, 'Name': 'Back to Black', 'AlbumId': 321, 'MediaTypeId': 2, 'GenreId': 14, 'Composer': 'Mark Ronson', 'Milliseconds': 240320, 'Bytes': 3852953, 'UnitPrice': 0.99}, page_content='Back to Black'), Document(metadata={'id': '809969b0-7734-4de6-abdb-83f80d7c296a', 'TrackId': 1877, 'Name': 'Fade To Black', 'AlbumId': 154, 'MediaTypeId': 1, 'GenreId': 3, 'Composer': 'Metallica', 'Milliseconds': 414824, 'Bytes': 13531954, 'UnitPrice': 0.99}, page_content='Fade To Black'), Document(metadata={'id': '5c06d8d2-4d26-45b3-8c77-45c66b9e1022', 'TrackId': 2719, 'Name': 'Paint It Black', 'AlbumId': 219, 'MediaTypeId': 1, 'GenreId': 4, 'Composer': 'Keith Richards/Mick Jagger', 'Milliseconds': 214752, 'Bytes': 7101572, 'UnitPrice': 0.99}, page_content='Paint It Black'), Document(metadata={'id': '9cf9c2cd-793b-4f35-8b2c-060fc0299911', 'TrackId': 2672, 'Name': 'Paint It Black', 'AlbumId': 216, 'MediaTypeId': 1, 'GenreId': 1, 'Composer': 'Jagger/Richards', 'Milliseconds': 226063, 'Bytes': 7442888, 'UnitPrice': 0.99}, page_content='Paint It Black')]\", id='37993f72-ec1e-42fe-842f-50fdeffbae5a', tool_call_id='call_JRwdSRKPxerAIfoYl7c6rMNl')]\n",
      "\n",
      "---\n",
      "\n"
     ]
    },
    {
     "name": "stderr",
     "output_type": "stream",
     "text": [
      "/var/folders/8h/s0ymf3w508l48r6ykqn826580000gn/T/ipykernel_77614/13706861.py:4: PydanticDeprecatedSince20: The `dict` method is deprecated; use `model_dump` instead. Deprecated in Pydantic V2.0 to be removed in V3.0. See Pydantic V2 Migration Guide at https://errors.pydantic.dev/2.10/migration/\n",
      "  _dict = message.dict()\n"
     ]
    },
    {
     "name": "stdout",
     "output_type": "stream",
     "text": [
      "Output from node 'music':\n",
      "---\n",
      "content='It looks like there might have been a mix-up. While I found \"Back to Black\" by Amy Winehouse, I didn\\'t find \"Back in Black,\" which is actually a song by AC/DC. If you\\'re looking for \"Back in Black\" by AC/DC, it\\'s a classic rock song from their album of the same name. If you need more information or were looking for a different song, please let me know!' additional_kwargs={} response_metadata={'finish_reason': 'stop', 'model_name': 'gpt-4-0125-preview'} name='music' id='run-419dd18d-1666-45cb-866f-daf6383619a0-0'\n",
      "\n",
      "---\n",
      "\n"
     ]
    },
    {
     "name": "stderr",
     "output_type": "stream",
     "text": [
      "/var/folders/8h/s0ymf3w508l48r6ykqn826580000gn/T/ipykernel_77614/13706861.py:4: PydanticDeprecatedSince20: The `dict` method is deprecated; use `model_dump` instead. Deprecated in Pydantic V2.0 to be removed in V3.0. See Pydantic V2 Migration Guide at https://errors.pydantic.dev/2.10/migration/\n",
      "  _dict = message.dict()\n"
     ]
    },
    {
     "name": "stdout",
     "output_type": "stream",
     "text": [
      "Output from node 'general':\n",
      "---\n",
      "content='' additional_kwargs={'tool_calls': [{'index': 0, 'id': 'call_YnTA4vG2GpJDtIwvBK4WaZlH', 'function': {'arguments': '{\"choice\":\"music\"}', 'name': 'Router'}, 'type': 'function'}]} response_metadata={'finish_reason': 'tool_calls', 'model_name': 'gpt-4-0125-preview'} name='general' id='run-1ffb5d44-6af1-4a7a-9fdd-bd96094a9f29-0' tool_calls=[{'name': 'Router', 'args': {'choice': 'music'}, 'id': 'call_YnTA4vG2GpJDtIwvBK4WaZlH', 'type': 'tool_call'}]\n",
      "\n",
      "---\n",
      "\n"
     ]
    },
    {
     "name": "stderr",
     "output_type": "stream",
     "text": [
      "/var/folders/8h/s0ymf3w508l48r6ykqn826580000gn/T/ipykernel_77614/13706861.py:4: PydanticDeprecatedSince20: The `dict` method is deprecated; use `model_dump` instead. Deprecated in Pydantic V2.0 to be removed in V3.0. See Pydantic V2 Migration Guide at https://errors.pydantic.dev/2.10/migration/\n",
      "  _dict = message.dict()\n",
      "/var/folders/8h/s0ymf3w508l48r6ykqn826580000gn/T/ipykernel_77614/1027942702.py:14: LangGraphDeprecationWarning: ToolInvocation is deprecated as of version 0.2.0 and will be removed in 0.3.0. Use langgraph.prebuilt.ToolNode instead.\n",
      "  ToolInvocation(\n"
     ]
    },
    {
     "name": "stdout",
     "output_type": "stream",
     "text": [
      "Output from node 'music':\n",
      "---\n",
      "content='' additional_kwargs={'tool_calls': [{'index': 0, 'id': 'call_uYBJtBxEFljqXpAuLmv0ydS6', 'function': {'arguments': '{\"artist\":\"AC/DC\"}', 'name': 'get_albums_by_artist'}, 'type': 'function'}]} response_metadata={'finish_reason': 'tool_calls', 'model_name': 'gpt-4-0125-preview'} name='music' id='run-cdd07036-32c6-424e-9aea-f8fa7331c5b8-0' tool_calls=[{'name': 'get_albums_by_artist', 'args': {'artist': 'AC/DC'}, 'id': 'call_uYBJtBxEFljqXpAuLmv0ydS6', 'type': 'tool_call'}]\n",
      "\n",
      "---\n",
      "\n",
      "Output from node 'tools':\n",
      "---\n",
      "[ToolMessage(content=\"[{'Title': 'For Those About To Rock We Salute You', 'Name': 'AC/DC'}, {'Title': 'Let There Be Rock', 'Name': 'AC/DC'}, {'Title': 'Facelift', 'Name': 'Alice In Chains'}, {'Title': 'Black Sabbath', 'Name': 'Black Sabbath'}, {'Title': 'Black Sabbath Vol. 4 (Remaster)', 'Name': 'Black Sabbath'}, {'Title': 'A Matter of Life and Death', 'Name': 'Iron Maiden'}, {'Title': 'A Real Dead One', 'Name': 'Iron Maiden'}, {'Title': 'A Real Live One', 'Name': 'Iron Maiden'}, {'Title': 'Brave New World', 'Name': 'Iron Maiden'}, {'Title': 'Dance Of Death', 'Name': 'Iron Maiden'}, {'Title': 'Fear Of The Dark', 'Name': 'Iron Maiden'}, {'Title': 'Iron Maiden', 'Name': 'Iron Maiden'}, {'Title': 'Killers', 'Name': 'Iron Maiden'}, {'Title': 'Live After Death', 'Name': 'Iron Maiden'}, {'Title': 'Live At Donington 1992 (Disc 1)', 'Name': 'Iron Maiden'}, {'Title': 'Live At Donington 1992 (Disc 2)', 'Name': 'Iron Maiden'}, {'Title': 'No Prayer For The Dying', 'Name': 'Iron Maiden'}, {'Title': 'Piece Of Mind', 'Name': 'Iron Maiden'}, {'Title': 'Powerslave', 'Name': 'Iron Maiden'}, {'Title': 'Rock In Rio [CD1]', 'Name': 'Iron Maiden'}, {'Title': 'Rock In Rio [CD2]', 'Name': 'Iron Maiden'}, {'Title': 'Seventh Son of a Seventh Son', 'Name': 'Iron Maiden'}, {'Title': 'Somewhere in Time', 'Name': 'Iron Maiden'}, {'Title': 'The Number of The Beast', 'Name': 'Iron Maiden'}, {'Title': 'The X Factor', 'Name': 'Iron Maiden'}, {'Title': 'Virtual XI', 'Name': 'Iron Maiden'}]\", id='b5d549a8-1a53-4a22-8829-736909b454f9', tool_call_id='call_uYBJtBxEFljqXpAuLmv0ydS6')]\n",
      "\n",
      "---\n",
      "\n"
     ]
    },
    {
     "name": "stderr",
     "output_type": "stream",
     "text": [
      "/var/folders/8h/s0ymf3w508l48r6ykqn826580000gn/T/ipykernel_77614/13706861.py:4: PydanticDeprecatedSince20: The `dict` method is deprecated; use `model_dump` instead. Deprecated in Pydantic V2.0 to be removed in V3.0. See Pydantic V2 Migration Guide at https://errors.pydantic.dev/2.10/migration/\n",
      "  _dict = message.dict()\n"
     ]
    },
    {
     "name": "stdout",
     "output_type": "stream",
     "text": [
      "Output from node 'music':\n",
      "---\n",
      "content=\"Here are some albums by AC/DC and similar artists:\\n\\n### AC/DC Albums\\n- **For Those About To Rock We Salute You**\\n- **Let There Be Rock**\\n\\n### Albums by Similar Artists\\n- **Facelift** by Alice In Chains\\n- **Black Sabbath** by Black Sabbath\\n- **Black Sabbath Vol. 4 (Remaster)** by Black Sabbath\\n\\n### Iron Maiden Albums\\n- **A Matter of Life and Death**\\n- **A Real Dead One**\\n- **A Real Live One**\\n- **Brave New World**\\n- **Dance Of Death**\\n- **Fear Of The Dark**\\n- **Iron Maiden**\\n- **Killers**\\n- **Live After Death**\\n- **Live At Donington 1992 (Disc 1 & Disc 2)**\\n- **No Prayer For The Dying**\\n- **Piece Of Mind**\\n- **Powerslave**\\n- **Rock In Rio [CD1 & CD2]**\\n- **Seventh Son of a Seventh Son**\\n- **Somewhere in Time**\\n- **The Number of The Beast**\\n- **The X Factor**\\n- **Virtual XI**\\n\\nThese are just a few selections from AC/DC and similar artists. If you're looking for a specific album or have any other questions, feel free to ask!\" additional_kwargs={} response_metadata={'finish_reason': 'stop', 'model_name': 'gpt-4-0125-preview'} name='music' id='run-868bd13e-1a1a-40bf-b327-f2355075759d-0'\n",
      "\n",
      "---\n",
      "\n"
     ]
    },
    {
     "name": "stderr",
     "output_type": "stream",
     "text": [
      "/var/folders/8h/s0ymf3w508l48r6ykqn826580000gn/T/ipykernel_77614/13706861.py:4: PydanticDeprecatedSince20: The `dict` method is deprecated; use `model_dump` instead. Deprecated in Pydantic V2.0 to be removed in V3.0. See Pydantic V2 Migration Guide at https://errors.pydantic.dev/2.10/migration/\n",
      "  _dict = message.dict()\n"
     ]
    },
    {
     "name": "stdout",
     "output_type": "stream",
     "text": [
      "Output from node 'general':\n",
      "---\n",
      "content='' additional_kwargs={'tool_calls': [{'index': 0, 'id': 'call_3DnOsg1DVAmQkNCD8uE4q2wp', 'function': {'arguments': '{\"choice\":\"music\"}', 'name': 'Router'}, 'type': 'function'}]} response_metadata={'finish_reason': 'tool_calls', 'model_name': 'gpt-4-0125-preview'} name='general' id='run-9c68107f-6bb2-4228-a469-1425ad7650c7-0' tool_calls=[{'name': 'Router', 'args': {'choice': 'music'}, 'id': 'call_3DnOsg1DVAmQkNCD8uE4q2wp', 'type': 'tool_call'}]\n",
      "\n",
      "---\n",
      "\n"
     ]
    },
    {
     "name": "stderr",
     "output_type": "stream",
     "text": [
      "/var/folders/8h/s0ymf3w508l48r6ykqn826580000gn/T/ipykernel_77614/13706861.py:4: PydanticDeprecatedSince20: The `dict` method is deprecated; use `model_dump` instead. Deprecated in Pydantic V2.0 to be removed in V3.0. See Pydantic V2 Migration Guide at https://errors.pydantic.dev/2.10/migration/\n",
      "  _dict = message.dict()\n",
      "/var/folders/8h/s0ymf3w508l48r6ykqn826580000gn/T/ipykernel_77614/1027942702.py:14: LangGraphDeprecationWarning: ToolInvocation is deprecated as of version 0.2.0 and will be removed in 0.3.0. Use langgraph.prebuilt.ToolNode instead.\n",
      "  ToolInvocation(\n"
     ]
    },
    {
     "name": "stdout",
     "output_type": "stream",
     "text": [
      "Output from node 'music':\n",
      "---\n",
      "content='' additional_kwargs={'tool_calls': [{'index': 0, 'id': 'call_C0gxdJVrSvzzQRTgDA0qybaI', 'function': {'arguments': '{\"artist\": \"U2\"}', 'name': 'get_tracks_by_artist'}, 'type': 'function'}, {'index': 1, 'id': 'call_Up1exuTPakUcMZeHZBg49Up2', 'function': {'arguments': '{\"artist\": \"U2\"}', 'name': 'get_albums_by_artist'}, 'type': 'function'}]} response_metadata={'finish_reason': 'tool_calls', 'model_name': 'gpt-4-0125-preview'} name='music' id='run-c62a4b95-c02f-4ddc-8719-240ad1ff66d1-0' tool_calls=[{'name': 'get_tracks_by_artist', 'args': {'artist': 'U2'}, 'id': 'call_C0gxdJVrSvzzQRTgDA0qybaI', 'type': 'tool_call'}, {'name': 'get_albums_by_artist', 'args': {'artist': 'U2'}, 'id': 'call_Up1exuTPakUcMZeHZBg49Up2', 'type': 'tool_call'}]\n",
      "\n",
      "---\n",
      "\n",
      "Output from node 'tools':\n",
      "---\n",
      "[ToolMessage(content='[{\\'SongName\\': \\'In Your Honor\\', \\'ArtistName\\': \\'Foo Fighters\\'}, {\\'SongName\\': \\'No Way Back\\', \\'ArtistName\\': \\'Foo Fighters\\'}, {\\'SongName\\': \\'Best Of You\\', \\'ArtistName\\': \\'Foo Fighters\\'}, {\\'SongName\\': \\'DOA\\', \\'ArtistName\\': \\'Foo Fighters\\'}, {\\'SongName\\': \\'Hell\\', \\'ArtistName\\': \\'Foo Fighters\\'}, {\\'SongName\\': \\'The Last Song\\', \\'ArtistName\\': \\'Foo Fighters\\'}, {\\'SongName\\': \\'Free Me\\', \\'ArtistName\\': \\'Foo Fighters\\'}, {\\'SongName\\': \\'Resolve\\', \\'ArtistName\\': \\'Foo Fighters\\'}, {\\'SongName\\': \\'The Deepest Blues Are Black\\', \\'ArtistName\\': \\'Foo Fighters\\'}, {\\'SongName\\': \\'End Over End\\', \\'ArtistName\\': \\'Foo Fighters\\'}, {\\'SongName\\': \\'Still\\', \\'ArtistName\\': \\'Foo Fighters\\'}, {\\'SongName\\': \\'What If I Do?\\', \\'ArtistName\\': \\'Foo Fighters\\'}, {\\'SongName\\': \\'Miracle\\', \\'ArtistName\\': \\'Foo Fighters\\'}, {\\'SongName\\': \\'Another Round\\', \\'ArtistName\\': \\'Foo Fighters\\'}, {\\'SongName\\': \\'Friend Of A Friend\\', \\'ArtistName\\': \\'Foo Fighters\\'}, {\\'SongName\\': \\'Over And Out\\', \\'ArtistName\\': \\'Foo Fighters\\'}, {\\'SongName\\': \\'On The Mend\\', \\'ArtistName\\': \\'Foo Fighters\\'}, {\\'SongName\\': \\'Virginia Moon\\', \\'ArtistName\\': \\'Foo Fighters\\'}, {\\'SongName\\': \\'Cold Day In The Sun\\', \\'ArtistName\\': \\'Foo Fighters\\'}, {\\'SongName\\': \\'Razor\\', \\'ArtistName\\': \\'Foo Fighters\\'}, {\\'SongName\\': \\'All My Life\\', \\'ArtistName\\': \\'Foo Fighters\\'}, {\\'SongName\\': \\'Low\\', \\'ArtistName\\': \\'Foo Fighters\\'}, {\\'SongName\\': \\'Have It All\\', \\'ArtistName\\': \\'Foo Fighters\\'}, {\\'SongName\\': \\'Times Like These\\', \\'ArtistName\\': \\'Foo Fighters\\'}, {\\'SongName\\': \\'Disenchanted Lullaby\\', \\'ArtistName\\': \\'Foo Fighters\\'}, {\\'SongName\\': \\'Tired Of You\\', \\'ArtistName\\': \\'Foo Fighters\\'}, {\\'SongName\\': \\'Halo\\', \\'ArtistName\\': \\'Foo Fighters\\'}, {\\'SongName\\': \\'Lonely As You\\', \\'ArtistName\\': \\'Foo Fighters\\'}, {\\'SongName\\': \\'Overdrive\\', \\'ArtistName\\': \\'Foo Fighters\\'}, {\\'SongName\\': \\'Burn Away\\', \\'ArtistName\\': \\'Foo Fighters\\'}, {\\'SongName\\': \\'Come Back\\', \\'ArtistName\\': \\'Foo Fighters\\'}, {\\'SongName\\': \\'Doll\\', \\'ArtistName\\': \\'Foo Fighters\\'}, {\\'SongName\\': \\'Monkey Wrench\\', \\'ArtistName\\': \\'Foo Fighters\\'}, {\\'SongName\\': \\'Hey, Johnny Park!\\', \\'ArtistName\\': \\'Foo Fighters\\'}, {\\'SongName\\': \\'My Poor Brain\\', \\'ArtistName\\': \\'Foo Fighters\\'}, {\\'SongName\\': \\'Wind Up\\', \\'ArtistName\\': \\'Foo Fighters\\'}, {\\'SongName\\': \\'Up In Arms\\', \\'ArtistName\\': \\'Foo Fighters\\'}, {\\'SongName\\': \\'My Hero\\', \\'ArtistName\\': \\'Foo Fighters\\'}, {\\'SongName\\': \\'See You\\', \\'ArtistName\\': \\'Foo Fighters\\'}, {\\'SongName\\': \\'Enough Space\\', \\'ArtistName\\': \\'Foo Fighters\\'}, {\\'SongName\\': \\'February Stars\\', \\'ArtistName\\': \\'Foo Fighters\\'}, {\\'SongName\\': \\'Everlong\\', \\'ArtistName\\': \\'Foo Fighters\\'}, {\\'SongName\\': \\'Walking After You\\', \\'ArtistName\\': \\'Foo Fighters\\'}, {\\'SongName\\': \\'New Way Home\\', \\'ArtistName\\': \\'Foo Fighters\\'}, {\\'SongName\\': \\'Speak To Me/Breathe\\', \\'ArtistName\\': \\'Pink Floyd\\'}, {\\'SongName\\': \\'On The Run\\', \\'ArtistName\\': \\'Pink Floyd\\'}, {\\'SongName\\': \\'Time\\', \\'ArtistName\\': \\'Pink Floyd\\'}, {\\'SongName\\': \\'The Great Gig In The Sky\\', \\'ArtistName\\': \\'Pink Floyd\\'}, {\\'SongName\\': \\'Money\\', \\'ArtistName\\': \\'Pink Floyd\\'}, {\\'SongName\\': \\'Us And Them\\', \\'ArtistName\\': \\'Pink Floyd\\'}, {\\'SongName\\': \\'Any Colour You Like\\', \\'ArtistName\\': \\'Pink Floyd\\'}, {\\'SongName\\': \\'Brain Damage\\', \\'ArtistName\\': \\'Pink Floyd\\'}, {\\'SongName\\': \\'Eclipse\\', \\'ArtistName\\': \\'Pink Floyd\\'}, {\\'SongName\\': \\'Zoo Station\\', \\'ArtistName\\': \\'U2\\'}, {\\'SongName\\': \\'Even Better Than The Real Thing\\', \\'ArtistName\\': \\'U2\\'}, {\\'SongName\\': \\'One\\', \\'ArtistName\\': \\'U2\\'}, {\\'SongName\\': \\'Until The End Of The World\\', \\'ArtistName\\': \\'U2\\'}, {\\'SongName\\': \"Who\\'s Gonna Ride Your Wild Horses\", \\'ArtistName\\': \\'U2\\'}, {\\'SongName\\': \\'So Cruel\\', \\'ArtistName\\': \\'U2\\'}, {\\'SongName\\': \\'The Fly\\', \\'ArtistName\\': \\'U2\\'}, {\\'SongName\\': \\'Mysterious Ways\\', \\'ArtistName\\': \\'U2\\'}, {\\'SongName\\': \"Tryin\\' To Throw Your Arms Around The World\", \\'ArtistName\\': \\'U2\\'}, {\\'SongName\\': \\'Ultraviolet (Light My Way)\\', \\'ArtistName\\': \\'U2\\'}, {\\'SongName\\': \\'Acrobat\\', \\'ArtistName\\': \\'U2\\'}, {\\'SongName\\': \\'Love Is Blindness\\', \\'ArtistName\\': \\'U2\\'}, {\\'SongName\\': \\'Beautiful Day\\', \\'ArtistName\\': \\'U2\\'}, {\\'SongName\\': \"Stuck In A Moment You Can\\'t Get Out Of\", \\'ArtistName\\': \\'U2\\'}, {\\'SongName\\': \\'Elevation\\', \\'ArtistName\\': \\'U2\\'}, {\\'SongName\\': \\'Walk On\\', \\'ArtistName\\': \\'U2\\'}, {\\'SongName\\': \\'Kite\\', \\'ArtistName\\': \\'U2\\'}, {\\'SongName\\': \\'In A Little While\\', \\'ArtistName\\': \\'U2\\'}, {\\'SongName\\': \\'Wild Honey\\', \\'ArtistName\\': \\'U2\\'}, {\\'SongName\\': \\'Peace On Earth\\', \\'ArtistName\\': \\'U2\\'}, {\\'SongName\\': \\'When I Look At The World\\', \\'ArtistName\\': \\'U2\\'}, {\\'SongName\\': \\'New York\\', \\'ArtistName\\': \\'U2\\'}, {\\'SongName\\': \\'Grace\\', \\'ArtistName\\': \\'U2\\'}, {\\'SongName\\': \\'The Three Sunrises\\', \\'ArtistName\\': \\'U2\\'}, {\\'SongName\\': \\'Spanish Eyes\\', \\'ArtistName\\': \\'U2\\'}, {\\'SongName\\': \\'Sweetest Thing\\', \\'ArtistName\\': \\'U2\\'}, {\\'SongName\\': \\'Love Comes Tumbling\\', \\'ArtistName\\': \\'U2\\'}, {\\'SongName\\': \\'Bass Trap\\', \\'ArtistName\\': \\'U2\\'}, {\\'SongName\\': \\'Dancing Barefoot\\', \\'ArtistName\\': \\'U2\\'}, {\\'SongName\\': \\'Everlasting Love\\', \\'ArtistName\\': \\'U2\\'}, {\\'SongName\\': \\'Unchained Melody\\', \\'ArtistName\\': \\'U2\\'}, {\\'SongName\\': \\'Walk To The Water\\', \\'ArtistName\\': \\'U2\\'}, {\\'SongName\\': \\'Luminous Times (Hold On To Love)\\', \\'ArtistName\\': \\'U2\\'}, {\\'SongName\\': \\'Hallelujah Here She Comes\\', \\'ArtistName\\': \\'U2\\'}, {\\'SongName\\': \\'Silver And Gold\\', \\'ArtistName\\': \\'U2\\'}, {\\'SongName\\': \\'Endless Deep\\', \\'ArtistName\\': \\'U2\\'}, {\\'SongName\\': \\'A Room At The Heartbreak Hotel\\', \\'ArtistName\\': \\'U2\\'}, {\\'SongName\\': \\'Trash, Trampoline And The Party Girl\\', \\'ArtistName\\': \\'U2\\'}, {\\'SongName\\': \\'Vertigo\\', \\'ArtistName\\': \\'U2\\'}, {\\'SongName\\': \\'Miracle Drug\\', \\'ArtistName\\': \\'U2\\'}, {\\'SongName\\': \"Sometimes You Can\\'t Make It On Your Own\", \\'ArtistName\\': \\'U2\\'}, {\\'SongName\\': \\'Love And Peace Or Else\\', \\'ArtistName\\': \\'U2\\'}, {\\'SongName\\': \\'City Of Blinding Lights\\', \\'ArtistName\\': \\'U2\\'}, {\\'SongName\\': \\'All Because Of You\\', \\'ArtistName\\': \\'U2\\'}, {\\'SongName\\': \\'A Man And A Woman\\', \\'ArtistName\\': \\'U2\\'}, {\\'SongName\\': \\'Crumbs From Your Table\\', \\'ArtistName\\': \\'U2\\'}, {\\'SongName\\': \\'One Step Closer\\', \\'ArtistName\\': \\'U2\\'}, {\\'SongName\\': \\'Original Of The Species\\', \\'ArtistName\\': \\'U2\\'}, {\\'SongName\\': \\'Yahweh\\', \\'ArtistName\\': \\'U2\\'}, {\\'SongName\\': \\'Discotheque\\', \\'ArtistName\\': \\'U2\\'}, {\\'SongName\\': \\'Do You Feel Loved\\', \\'ArtistName\\': \\'U2\\'}, {\\'SongName\\': \\'Mofo\\', \\'ArtistName\\': \\'U2\\'}, {\\'SongName\\': \\'If God Will Send His Angels\\', \\'ArtistName\\': \\'U2\\'}, {\\'SongName\\': \\'Staring At The Sun\\', \\'ArtistName\\': \\'U2\\'}, {\\'SongName\\': \\'Last Night On Earth\\', \\'ArtistName\\': \\'U2\\'}, {\\'SongName\\': \\'Gone\\', \\'ArtistName\\': \\'U2\\'}, {\\'SongName\\': \\'Miami\\', \\'ArtistName\\': \\'U2\\'}, {\\'SongName\\': \\'The Playboy Mansion\\', \\'ArtistName\\': \\'U2\\'}, {\\'SongName\\': \\'If You Wear That Velvet Dress\\', \\'ArtistName\\': \\'U2\\'}, {\\'SongName\\': \\'Please\\', \\'ArtistName\\': \\'U2\\'}, {\\'SongName\\': \\'Wake Up Dead Man\\', \\'ArtistName\\': \\'U2\\'}, {\\'SongName\\': \\'Helter Skelter\\', \\'ArtistName\\': \\'U2\\'}, {\\'SongName\\': \"Van Diemen\\'s Land\", \\'ArtistName\\': \\'U2\\'}, {\\'SongName\\': \\'Desire\\', \\'ArtistName\\': \\'U2\\'}, {\\'SongName\\': \\'Hawkmoon 269\\', \\'ArtistName\\': \\'U2\\'}, {\\'SongName\\': \\'All Along The Watchtower\\', \\'ArtistName\\': \\'U2\\'}, {\\'SongName\\': \"I Still Haven\\'t Found What I\\'m Looking for\", \\'ArtistName\\': \\'U2\\'}, {\\'SongName\\': \\'Freedom For My People\\', \\'ArtistName\\': \\'U2\\'}, {\\'SongName\\': \\'Silver And Gold\\', \\'ArtistName\\': \\'U2\\'}, {\\'SongName\\': \\'Pride (In The Name Of Love)\\', \\'ArtistName\\': \\'U2\\'}, {\\'SongName\\': \\'Angel Of Harlem\\', \\'ArtistName\\': \\'U2\\'}, {\\'SongName\\': \\'Love Rescue Me\\', \\'ArtistName\\': \\'U2\\'}, {\\'SongName\\': \\'When Love Comes To Town\\', \\'ArtistName\\': \\'U2\\'}, {\\'SongName\\': \\'Heartland\\', \\'ArtistName\\': \\'U2\\'}, {\\'SongName\\': \\'God Part II\\', \\'ArtistName\\': \\'U2\\'}, {\\'SongName\\': \\'The Star Spangled Banner\\', \\'ArtistName\\': \\'U2\\'}, {\\'SongName\\': \\'Bullet The Blue Sky\\', \\'ArtistName\\': \\'U2\\'}, {\\'SongName\\': \\'All I Want Is You\\', \\'ArtistName\\': \\'U2\\'}, {\\'SongName\\': \\'Pride (In The Name Of Love)\\', \\'ArtistName\\': \\'U2\\'}, {\\'SongName\\': \"New Year\\'s Day\", \\'ArtistName\\': \\'U2\\'}, {\\'SongName\\': \\'With Or Without You\\', \\'ArtistName\\': \\'U2\\'}, {\\'SongName\\': \"I Still Haven\\'t Found What I\\'m Looking For\", \\'ArtistName\\': \\'U2\\'}, {\\'SongName\\': \\'Sunday Bloody Sunday\\', \\'ArtistName\\': \\'U2\\'}, {\\'SongName\\': \\'Bad\\', \\'ArtistName\\': \\'U2\\'}, {\\'SongName\\': \\'Where The Streets Have No Name\\', \\'ArtistName\\': \\'U2\\'}, {\\'SongName\\': \\'I Will Follow\\', \\'ArtistName\\': \\'U2\\'}, {\\'SongName\\': \\'The Unforgettable Fire\\', \\'ArtistName\\': \\'U2\\'}, {\\'SongName\\': \\'Sweetest Thing\\', \\'ArtistName\\': \\'U2\\'}, {\\'SongName\\': \\'Desire\\', \\'ArtistName\\': \\'U2\\'}, {\\'SongName\\': \\'When Love Comes To Town\\', \\'ArtistName\\': \\'U2\\'}, {\\'SongName\\': \\'Angel Of Harlem\\', \\'ArtistName\\': \\'U2\\'}, {\\'SongName\\': \\'All I Want Is You\\', \\'ArtistName\\': \\'U2\\'}, {\\'SongName\\': \\'Sunday Bloody Sunday\\', \\'ArtistName\\': \\'U2\\'}, {\\'SongName\\': \\'Seconds\\', \\'ArtistName\\': \\'U2\\'}, {\\'SongName\\': \"New Year\\'s Day\", \\'ArtistName\\': \\'U2\\'}, {\\'SongName\\': \\'Like A Song...\\', \\'ArtistName\\': \\'U2\\'}, {\\'SongName\\': \\'Drowning Man\\', \\'ArtistName\\': \\'U2\\'}, {\\'SongName\\': \\'The Refugee\\', \\'ArtistName\\': \\'U2\\'}, {\\'SongName\\': \\'Two Hearts Beat As One\\', \\'ArtistName\\': \\'U2\\'}, {\\'SongName\\': \\'Red Light\\', \\'ArtistName\\': \\'U2\\'}, {\\'SongName\\': \\'Surrender\\', \\'ArtistName\\': \\'U2\\'}, {\\'SongName\\': \\'\"40\"\\', \\'ArtistName\\': \\'U2\\'}, {\\'SongName\\': \\'Zooropa\\', \\'ArtistName\\': \\'U2\\'}, {\\'SongName\\': \\'Babyface\\', \\'ArtistName\\': \\'U2\\'}, {\\'SongName\\': \\'Numb\\', \\'ArtistName\\': \\'U2\\'}, {\\'SongName\\': \\'Lemon\\', \\'ArtistName\\': \\'U2\\'}, {\\'SongName\\': \\'Stay (Faraway, So Close!)\\', \\'ArtistName\\': \\'U2\\'}, {\\'SongName\\': \"Daddy\\'s Gonna Pay For Your Crashed Car\", \\'ArtistName\\': \\'U2\\'}, {\\'SongName\\': \\'Some Days Are Better Than Others\\', \\'ArtistName\\': \\'U2\\'}, {\\'SongName\\': \\'The First Time\\', \\'ArtistName\\': \\'U2\\'}, {\\'SongName\\': \\'Dirty Day\\', \\'ArtistName\\': \\'U2\\'}, {\\'SongName\\': \\'The Wanderer\\', \\'ArtistName\\': \\'U2\\'}, {\\'SongName\\': \\'Instant Karma\\', \\'ArtistName\\': \\'U2\\'}, {\\'SongName\\': \\'#9 Dream\\', \\'ArtistName\\': \\'U2\\'}, {\\'SongName\\': \\'Mother\\', \\'ArtistName\\': \\'U2\\'}, {\\'SongName\\': \\'Give Peace a Chance\\', \\'ArtistName\\': \\'U2\\'}, {\\'SongName\\': \\'Cold Turkey\\', \\'ArtistName\\': \\'U2\\'}, {\\'SongName\\': \\'Whatever Gets You Thru the Night\\', \\'ArtistName\\': \\'U2\\'}, {\\'SongName\\': \"I\\'m Losing You\", \\'ArtistName\\': \\'U2\\'}, {\\'SongName\\': \\'Gimme Some Truth\\', \\'ArtistName\\': \\'U2\\'}, {\\'SongName\\': \\'Oh, My Love\\', \\'ArtistName\\': \\'U2\\'}, {\\'SongName\\': \\'Imagine\\', \\'ArtistName\\': \\'U2\\'}, {\\'SongName\\': \\'Nobody Told Me\\', \\'ArtistName\\': \\'U2\\'}, {\\'SongName\\': \\'Jealous Guy\\', \\'ArtistName\\': \\'U2\\'}, {\\'SongName\\': \\'Working Class Hero\\', \\'ArtistName\\': \\'U2\\'}, {\\'SongName\\': \\'Power to the People\\', \\'ArtistName\\': \\'U2\\'}, {\\'SongName\\': \\'Imagine\\', \\'ArtistName\\': \\'U2\\'}, {\\'SongName\\': \\'Beautiful Boy\\', \\'ArtistName\\': \\'U2\\'}, {\\'SongName\\': \\'Isolation\\', \\'ArtistName\\': \\'U2\\'}, {\\'SongName\\': \\'Watching the Wheels\\', \\'ArtistName\\': \\'U2\\'}, {\\'SongName\\': \\'Grow Old With Me\\', \\'ArtistName\\': \\'U2\\'}, {\\'SongName\\': \\'Gimme Some Truth\\', \\'ArtistName\\': \\'U2\\'}, {\\'SongName\\': \\'[Just Like] Starting Over\\', \\'ArtistName\\': \\'U2\\'}, {\\'SongName\\': \\'God\\', \\'ArtistName\\': \\'U2\\'}, {\\'SongName\\': \\'Real Love\\', \\'ArtistName\\': \\'U2\\'}, {\\'SongName\\': \\'Breakfast In Bed\\', \\'ArtistName\\': \\'UB40\\'}, {\\'SongName\\': \\'Where Did I Go Wrong\\', \\'ArtistName\\': \\'UB40\\'}, {\\'SongName\\': \\'I Would Do For You\\', \\'ArtistName\\': \\'UB40\\'}, {\\'SongName\\': \\'Homely Girl\\', \\'ArtistName\\': \\'UB40\\'}, {\\'SongName\\': \\'Here I Am (Come And Take Me)\\', \\'ArtistName\\': \\'UB40\\'}, {\\'SongName\\': \\'Kingston Town\\', \\'ArtistName\\': \\'UB40\\'}, {\\'SongName\\': \\'Wear You To The Ball\\', \\'ArtistName\\': \\'UB40\\'}, {\\'SongName\\': \"(I Can\\'t Help) Falling In Love With You\", \\'ArtistName\\': \\'UB40\\'}, {\\'SongName\\': \\'Higher Ground\\', \\'ArtistName\\': \\'UB40\\'}, {\\'SongName\\': \\'Bring Me Your Cup\\', \\'ArtistName\\': \\'UB40\\'}, {\\'SongName\\': \"C\\'est La Vie\", \\'ArtistName\\': \\'UB40\\'}, {\\'SongName\\': \\'Reggae Music\\', \\'ArtistName\\': \\'UB40\\'}, {\\'SongName\\': \\'Superstition\\', \\'ArtistName\\': \\'UB40\\'}, {\\'SongName\\': \\'Until My Dying Day\\', \\'ArtistName\\': \\'UB40\\'}]', id='bc4e93f1-b9cd-4bbc-93fa-1a80a32bc791', tool_call_id='call_C0gxdJVrSvzzQRTgDA0qybaI'), ToolMessage(content='[{\\'Title\\': \\'In Your Honor [Disc 1]\\', \\'Name\\': \\'Foo Fighters\\'}, {\\'Title\\': \\'In Your Honor [Disc 2]\\', \\'Name\\': \\'Foo Fighters\\'}, {\\'Title\\': \\'One By One\\', \\'Name\\': \\'Foo Fighters\\'}, {\\'Title\\': \\'The Colour And The Shape\\', \\'Name\\': \\'Foo Fighters\\'}, {\\'Title\\': \\'Dark Side Of The Moon\\', \\'Name\\': \\'Pink Floyd\\'}, {\\'Title\\': \\'Achtung Baby\\', \\'Name\\': \\'U2\\'}, {\\'Title\\': \"All That You Can\\'t Leave Behind\", \\'Name\\': \\'U2\\'}, {\\'Title\\': \\'B-Sides 1980-1990\\', \\'Name\\': \\'U2\\'}, {\\'Title\\': \\'How To Dismantle An Atomic Bomb\\', \\'Name\\': \\'U2\\'}, {\\'Title\\': \\'Pop\\', \\'Name\\': \\'U2\\'}, {\\'Title\\': \\'Rattle And Hum\\', \\'Name\\': \\'U2\\'}, {\\'Title\\': \\'The Best Of 1980-1990\\', \\'Name\\': \\'U2\\'}, {\\'Title\\': \\'War\\', \\'Name\\': \\'U2\\'}, {\\'Title\\': \\'Zooropa\\', \\'Name\\': \\'U2\\'}, {\\'Title\\': \\'Instant Karma: The Amnesty International Campaign to Save Darfur\\', \\'Name\\': \\'U2\\'}, {\\'Title\\': \\'UB40 The Best Of - Volume Two [UK]\\', \\'Name\\': \\'UB40\\'}]', id='6092c5f9-40ef-4c00-8341-f0e3c4195b0f', tool_call_id='call_Up1exuTPakUcMZeHZBg49Up2')]\n",
      "\n",
      "---\n",
      "\n"
     ]
    },
    {
     "name": "stderr",
     "output_type": "stream",
     "text": [
      "/var/folders/8h/s0ymf3w508l48r6ykqn826580000gn/T/ipykernel_77614/13706861.py:4: PydanticDeprecatedSince20: The `dict` method is deprecated; use `model_dump` instead. Deprecated in Pydantic V2.0 to be removed in V3.0. See Pydantic V2 Migration Guide at https://errors.pydantic.dev/2.10/migration/\n",
      "  _dict = message.dict()\n"
     ]
    },
    {
     "name": "stdout",
     "output_type": "stream",
     "text": [
      "Output from node 'music':\n",
      "---\n",
      "content=\"Here are some songs and albums by U2 and similar artists:\\n\\n### U2 Songs\\n- **Beautiful Day**\\n- **One**\\n- **With Or Without You**\\n- **I Still Haven't Found What I'm Looking For**\\n- **Sunday Bloody Sunday**\\n- **Where The Streets Have No Name**\\n- **Vertigo**\\n- **Mysterious Ways**\\n- **Elevation**\\n- **The Sweetest Thing**\\n- **Desire**\\n- **Pride (In The Name Of Love)**\\n- **New Year's Day**\\n- **Stuck In A Moment You Can't Get Out Of**\\n- **Walk On**\\n- ...and many more.\\n\\n### U2 Albums\\n- **Achtung Baby**\\n- **All That You Can't Leave Behind**\\n- **How To Dismantle An Atomic Bomb**\\n- **Pop**\\n- **Rattle And Hum**\\n- **The Best Of 1980-1990**\\n- **War**\\n- **Zooropa**\\n- **B-Sides 1980-1990**\\n\\nThese lists include some of the most popular songs and albums by U2. If you're looking for a specific song or album not listed here, please let me know!\" additional_kwargs={} response_metadata={'finish_reason': 'stop', 'model_name': 'gpt-4-0125-preview'} name='music' id='run-ea097e29-5a62-4b26-9a93-0863df27f581-0'\n",
      "\n",
      "---\n",
      "\n"
     ]
    },
    {
     "name": "stderr",
     "output_type": "stream",
     "text": [
      "/var/folders/8h/s0ymf3w508l48r6ykqn826580000gn/T/ipykernel_77614/13706861.py:4: PydanticDeprecatedSince20: The `dict` method is deprecated; use `model_dump` instead. Deprecated in Pydantic V2.0 to be removed in V3.0. See Pydantic V2 Migration Guide at https://errors.pydantic.dev/2.10/migration/\n",
      "  _dict = message.dict()\n"
     ]
    },
    {
     "name": "stdout",
     "output_type": "stream",
     "text": [
      "Output from node 'general':\n",
      "---\n",
      "content='' additional_kwargs={'tool_calls': [{'index': 0, 'id': 'call_f8lRiN2lzbJLGApryBJuDE1L', 'function': {'arguments': '{\"choice\":\"customer\"}', 'name': 'Router'}, 'type': 'function'}]} response_metadata={'finish_reason': 'tool_calls', 'model_name': 'gpt-4-0125-preview'} name='general' id='run-da5c40e2-05d7-4af1-9693-773956387c40-0' tool_calls=[{'name': 'Router', 'args': {'choice': 'customer'}, 'id': 'call_f8lRiN2lzbJLGApryBJuDE1L', 'type': 'tool_call'}]\n",
      "\n",
      "---\n",
      "\n"
     ]
    },
    {
     "name": "stderr",
     "output_type": "stream",
     "text": [
      "/var/folders/8h/s0ymf3w508l48r6ykqn826580000gn/T/ipykernel_77614/13706861.py:4: PydanticDeprecatedSince20: The `dict` method is deprecated; use `model_dump` instead. Deprecated in Pydantic V2.0 to be removed in V3.0. See Pydantic V2 Migration Guide at https://errors.pydantic.dev/2.10/migration/\n",
      "  _dict = message.dict()\n",
      "/var/folders/8h/s0ymf3w508l48r6ykqn826580000gn/T/ipykernel_77614/1027942702.py:14: LangGraphDeprecationWarning: ToolInvocation is deprecated as of version 0.2.0 and will be removed in 0.3.0. Use langgraph.prebuilt.ToolNode instead.\n",
      "  ToolInvocation(\n"
     ]
    },
    {
     "name": "stdout",
     "output_type": "stream",
     "text": [
      "Output from node 'customer':\n",
      "---\n",
      "content='' additional_kwargs={'tool_calls': [{'index': 0, 'id': 'call_xX0hn6hhWoSjdO8IOgaiNIf4', 'function': {'arguments': '{\"customer_id\":1}', 'name': 'get_customer_info'}, 'type': 'function'}]} response_metadata={'finish_reason': 'tool_calls', 'model_name': 'gpt-4-0125-preview'} name='customer' id='run-3f706242-6751-4109-b4ae-856e548947ef-0' tool_calls=[{'name': 'get_customer_info', 'args': {'customer_id': 1}, 'id': 'call_xX0hn6hhWoSjdO8IOgaiNIf4', 'type': 'tool_call'}]\n",
      "\n",
      "---\n",
      "\n",
      "Output from node 'tools':\n",
      "---\n",
      "[ToolMessage(content=\"[(1, 'Luís', 'Gonçalves', 'Embraer - Empresa Brasileira de Aeronáutica S.A.', 'Av. Brigadeiro Faria Lima, 2170', 'São José dos Campos', 'SP', 'Brazil', '12227-000', '+55 (12) 3923-5555', '+55 (12) 3923-5566', 'luisg@embraer.com.br', 3)]\", id='5d30e862-8098-42b3-8ff8-322a2f7d3132', tool_call_id='call_xX0hn6hhWoSjdO8IOgaiNIf4')]\n",
      "\n",
      "---\n",
      "\n"
     ]
    },
    {
     "name": "stderr",
     "output_type": "stream",
     "text": [
      "/var/folders/8h/s0ymf3w508l48r6ykqn826580000gn/T/ipykernel_77614/13706861.py:4: PydanticDeprecatedSince20: The `dict` method is deprecated; use `model_dump` instead. Deprecated in Pydantic V2.0 to be removed in V3.0. See Pydantic V2 Migration Guide at https://errors.pydantic.dev/2.10/migration/\n",
      "  _dict = message.dict()\n"
     ]
    },
    {
     "name": "stdout",
     "output_type": "stream",
     "text": [
      "Output from node 'customer':\n",
      "---\n",
      "content='Your address is:\\n\\n- **Name:** Luís Gonçalves\\n- **Company:** Embraer - Empresa Brasileira de Aeronáutica S.A.\\n- **Address:** Av. Brigadeiro Faria Lima, 2170\\n- **City:** São José dos Campos\\n- **State:** SP\\n- **Country:** Brazil\\n- **Postal Code:** 12227-000\\n\\nIs there anything else I can help you with?' additional_kwargs={} response_metadata={'finish_reason': 'stop', 'model_name': 'gpt-4-0125-preview'} name='customer' id='run-53129c5d-a36f-435c-8558-fba7a161b8e0-0'\n",
      "\n",
      "---\n",
      "\n"
     ]
    },
    {
     "name": "stderr",
     "output_type": "stream",
     "text": [
      "/var/folders/8h/s0ymf3w508l48r6ykqn826580000gn/T/ipykernel_77614/13706861.py:4: PydanticDeprecatedSince20: The `dict` method is deprecated; use `model_dump` instead. Deprecated in Pydantic V2.0 to be removed in V3.0. See Pydantic V2 Migration Guide at https://errors.pydantic.dev/2.10/migration/\n",
      "  _dict = message.dict()\n"
     ]
    },
    {
     "name": "stdout",
     "output_type": "stream",
     "text": [
      "Output from node 'general':\n",
      "---\n",
      "content=\"It seems like you haven't entered a question or request. How can I assist you today? If you have any questions or need further assistance, feel free to let me know!\" additional_kwargs={} response_metadata={'finish_reason': 'stop', 'model_name': 'gpt-4-0125-preview'} name='general' id='run-5d1e37b1-acd7-41d1-811e-b4878fd1e7c5-0'\n",
      "\n",
      "---\n",
      "\n"
     ]
    }
   ],
   "source": [
    "from langchain_core.messages import HumanMessage\n",
    "from langgraph.graph.graph import START\n",
    "\n",
    "history = []\n",
    "while True:\n",
    "    user = input('User (q/Q to quit): ')\n",
    "    if user in {'q', 'Q'}:\n",
    "        print('AI: Byebye')\n",
    "        break\n",
    "    history.append(HumanMessage(content=user))\n",
    "    async for output in graph.astream(history):\n",
    "        if END in output or START in output:\n",
    "            continue\n",
    "        # stream() yields dictionaries with output keyed by node name\n",
    "        for key, value in output.items():\n",
    "            print(f\"Output from node '{key}':\")\n",
    "            print(\"---\")\n",
    "            print(value)\n",
    "        print(\"\\n---\\n\")\n",
    "    history.append(AIMessage(content=value.content))"
   ]
  }
 ],
 "metadata": {
  "kernelspec": {
   "display_name": "Python 3 (ipykernel)",
   "language": "python",
   "name": "python3"
  },
  "language_info": {
   "codemirror_mode": {
    "name": "ipython",
    "version": 3
   },
   "file_extension": ".py",
   "mimetype": "text/x-python",
   "name": "python",
   "nbconvert_exporter": "python",
   "pygments_lexer": "ipython3",
   "version": "3.13.0"
  }
 },
 "nbformat": 4,
 "nbformat_minor": 5
}
